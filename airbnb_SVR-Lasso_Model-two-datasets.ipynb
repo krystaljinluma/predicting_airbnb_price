{
 "cells": [
  {
   "cell_type": "code",
   "execution_count": 1,
   "metadata": {},
   "outputs": [],
   "source": [
    "import pandas as pd\n",
    "import numpy as np\n",
    "import matplotlib\n",
    "import seaborn as sb\n",
    "import matplotlib.pyplot as plt\n",
    "import matplotlib.cm as cmx\n",
    "import matplotlib.colors as colors\n",
    "import math\n",
    "import pylab\n",
    "import scipy.stats as stats\n",
    "%matplotlib inline\n",
    "\n",
    "from sklearn.model_selection import train_test_split\n",
    "from sklearn import metrics\n",
    "from sklearn.svm import SVR\n",
    "from sklearn.svm import LinearSVR\n",
    "from sklearn.linear_model import LassoCV\n",
    "\n",
    "from sklearn.feature_selection import SelectFromModel\n",
    "from sklearn import datasets, linear_model, metrics \n",
    "from sklearn.metrics import accuracy_score, mean_squared_error, r2_score, mean_absolute_error\n",
    "\n",
    "\n",
    "import scipy.stats as stats\n",
    "import statsmodels.api as sm\n",
    "#from textblob import TextBlob\n",
    "%matplotlib inline"
   ]
  },
  {
   "cell_type": "code",
   "execution_count": 127,
   "metadata": {},
   "outputs": [
    {
     "name": "stdout",
     "output_type": "stream",
     "text": [
      "(36757, 137)\n",
      "(6293, 124)\n"
     ]
    }
   ],
   "source": [
    "## Explore Data\n",
    "\n",
    "#data.head()\n",
    "# print(sf_data.shape)\n",
    "# print(sf_data.columns)\n",
    "# print(ny_data.columns)\n",
    "\n",
    "print(ny_data.shape)\n",
    "print(sf_data.shape)"
   ]
  },
  {
   "cell_type": "markdown",
   "metadata": {},
   "source": [
    "# Lasso"
   ]
  },
  {
   "cell_type": "code",
   "execution_count": 2,
   "metadata": {},
   "outputs": [],
   "source": [
    "ny_data = pd.read_csv('ny_data++_v4.csv', low_memory=False)\n",
    "sf_data = pd.read_csv('sf++_clean_v4.csv', low_memory=False)"
   ]
  },
  {
   "cell_type": "code",
   "execution_count": 3,
   "metadata": {},
   "outputs": [],
   "source": [
    "def get_common_columns(ny_data, sf_data):\n",
    "    common_columns = set(ny_data.columns).intersection(set(sf_data.columns))\n",
    "    # narrow down to same columns\n",
    "    ny_data_1 = pd.DataFrame()\n",
    "    sf_data_1 = pd.DataFrame()\n",
    "    for item in common_columns:\n",
    "        ny_data_1[item] = ny_data[item]\n",
    "        sf_data_1[item] = sf_data[item]\n",
    "    return ny_data_1, sf_data_1"
   ]
  },
  {
   "cell_type": "code",
   "execution_count": 4,
   "metadata": {},
   "outputs": [
    {
     "name": "stdout",
     "output_type": "stream",
     "text": [
      "(36760, 72)\n",
      "(6293, 63)\n"
     ]
    }
   ],
   "source": [
    "print(ny_data.shape)\n",
    "print(sf_data.shape)"
   ]
  },
  {
   "cell_type": "code",
   "execution_count": 5,
   "metadata": {},
   "outputs": [],
   "source": [
    "ny_data, sf_data = get_common_columns(ny_data, sf_data)"
   ]
  },
  {
   "cell_type": "code",
   "execution_count": 6,
   "metadata": {},
   "outputs": [
    {
     "name": "stdout",
     "output_type": "stream",
     "text": [
      "(36760, 62)\n",
      "(6293, 62)\n"
     ]
    }
   ],
   "source": [
    "print(ny_data.shape)\n",
    "print(sf_data.shape)"
   ]
  },
  {
   "cell_type": "code",
   "execution_count": 268,
   "metadata": {},
   "outputs": [
    {
     "name": "stdout",
     "output_type": "stream",
     "text": [
      "Index(['Hotel room', 'id', 'poverty_percent', 'Dome house', 'Tiny house',\n",
      "       '80-84', 'cleaning_fee', 'Loft', 'Other', 'price', 'hotel_count',\n",
      "       '50-59', 'sentiment_score', 'security_deposit', '90-94', 'Earth house',\n",
      "       'Apartment', 'Resort', 'Guest suite', 'Serviced apartment',\n",
      "       'number_of_reviews', 'Bungalow', 'dist_downtown', 'host_since',\n",
      "       'restaurant_density', 'bathrooms', 'bedrooms', 'Guesthouse', '95-100',\n",
      "       'Airbed', 'accommodates', 'House', 'commute_time_mins', '30-39',\n",
      "       'Villa', '70-79', 'Hotel', 'Castle', '60-69', 'host_identity_verified',\n",
      "       'Private room', 'host_is_superhost', 'Entire home/apt', 'Hostel',\n",
      "       'Townhouse', 'guests_included', 'Pull-out Sofa', '20-29', '40-49',\n",
      "       'host_has_profile_pic', '85-89', 'beds', 'Futon', 'Cottage',\n",
      "       'Shared room', 'Condominium', 'Bed and breakfast', 'Couch', 'Real Bed',\n",
      "       'Boutique hotel', 'Aparthotel', 'Cabin'],\n",
      "      dtype='object')\n"
     ]
    }
   ],
   "source": [
    "print(sf_data.columns)"
   ]
  },
  {
   "cell_type": "code",
   "execution_count": 7,
   "metadata": {},
   "outputs": [
    {
     "name": "stderr",
     "output_type": "stream",
     "text": [
      "C:\\Users\\teoal\\Anaconda3\\lib\\site-packages\\pandas\\core\\frame.py:4102: SettingWithCopyWarning: \n",
      "A value is trying to be set on a copy of a slice from a DataFrame\n",
      "\n",
      "See the caveats in the documentation: http://pandas.pydata.org/pandas-docs/stable/user_guide/indexing.html#returning-a-view-versus-a-copy\n",
      "  errors=errors,\n"
     ]
    }
   ],
   "source": [
    "#split into train and test, get y_train and y_test\n",
    "X_train, X_test = train_test_split(ny_data, test_size = 0.2)\n",
    "y_train = np.log(X_train['price'])\n",
    "y_test = np.log(X_test['price'])\n",
    "\n",
    "X_train.drop('price', axis = 1, inplace = True)\n",
    "X_test.drop('price', axis = 1, inplace = True)\n",
    "X_train.drop('id', axis = 1, inplace = True)\n",
    "X_test.drop('id', axis = 1, inplace = True)"
   ]
  },
  {
   "cell_type": "code",
   "execution_count": 8,
   "metadata": {},
   "outputs": [
    {
     "data": {
      "text/plain": [
       "(29408, 60)"
      ]
     },
     "execution_count": 8,
     "metadata": {},
     "output_type": "execute_result"
    }
   ],
   "source": [
    "X_train.shape\n",
    "# y_test.head()"
   ]
  },
  {
   "cell_type": "code",
   "execution_count": 45,
   "metadata": {},
   "outputs": [],
   "source": [
    "# X_train = ny_data\n",
    "# y_train = np.log(X_train['price'])\n",
    "# X_train.drop('price', axis = 1, inplace = True)"
   ]
  },
  {
   "cell_type": "code",
   "execution_count": 9,
   "metadata": {},
   "outputs": [],
   "source": [
    "SF_y = np.log(sf_data['price'].copy())\n",
    "SF_X = sf_data.drop(['price', 'id'], axis = 1)"
   ]
  },
  {
   "cell_type": "code",
   "execution_count": 10,
   "metadata": {},
   "outputs": [
    {
     "data": {
      "text/html": [
       "<div>\n",
       "<style scoped>\n",
       "    .dataframe tbody tr th:only-of-type {\n",
       "        vertical-align: middle;\n",
       "    }\n",
       "\n",
       "    .dataframe tbody tr th {\n",
       "        vertical-align: top;\n",
       "    }\n",
       "\n",
       "    .dataframe thead th {\n",
       "        text-align: right;\n",
       "    }\n",
       "</style>\n",
       "<table border=\"1\" class=\"dataframe\">\n",
       "  <thead>\n",
       "    <tr style=\"text-align: right;\">\n",
       "      <th></th>\n",
       "      <th>House</th>\n",
       "      <th>accommodates</th>\n",
       "      <th>Resort</th>\n",
       "      <th>host_has_profile_pic</th>\n",
       "      <th>host_is_superhost</th>\n",
       "      <th>Shared room</th>\n",
       "      <th>40-49</th>\n",
       "      <th>20-29</th>\n",
       "      <th>poverty_percent</th>\n",
       "      <th>90-94</th>\n",
       "      <th>...</th>\n",
       "      <th>Hotel</th>\n",
       "      <th>Tiny house</th>\n",
       "      <th>Airbed</th>\n",
       "      <th>Bungalow</th>\n",
       "      <th>Futon</th>\n",
       "      <th>commute_time_mins</th>\n",
       "      <th>Pull-out Sofa</th>\n",
       "      <th>85-89</th>\n",
       "      <th>Real Bed</th>\n",
       "      <th>80-84</th>\n",
       "    </tr>\n",
       "  </thead>\n",
       "  <tbody>\n",
       "    <tr>\n",
       "      <td>0</td>\n",
       "      <td>0</td>\n",
       "      <td>3</td>\n",
       "      <td>0</td>\n",
       "      <td>1</td>\n",
       "      <td>1</td>\n",
       "      <td>0</td>\n",
       "      <td>0</td>\n",
       "      <td>0</td>\n",
       "      <td>8.597667</td>\n",
       "      <td>0</td>\n",
       "      <td>...</td>\n",
       "      <td>0</td>\n",
       "      <td>0</td>\n",
       "      <td>0</td>\n",
       "      <td>0</td>\n",
       "      <td>0</td>\n",
       "      <td>29.0</td>\n",
       "      <td>0</td>\n",
       "      <td>0</td>\n",
       "      <td>1</td>\n",
       "      <td>0</td>\n",
       "    </tr>\n",
       "    <tr>\n",
       "      <td>1</td>\n",
       "      <td>0</td>\n",
       "      <td>2</td>\n",
       "      <td>0</td>\n",
       "      <td>1</td>\n",
       "      <td>1</td>\n",
       "      <td>0</td>\n",
       "      <td>0</td>\n",
       "      <td>0</td>\n",
       "      <td>8.597667</td>\n",
       "      <td>0</td>\n",
       "      <td>...</td>\n",
       "      <td>0</td>\n",
       "      <td>0</td>\n",
       "      <td>0</td>\n",
       "      <td>0</td>\n",
       "      <td>0</td>\n",
       "      <td>29.0</td>\n",
       "      <td>0</td>\n",
       "      <td>1</td>\n",
       "      <td>1</td>\n",
       "      <td>0</td>\n",
       "    </tr>\n",
       "    <tr>\n",
       "      <td>2</td>\n",
       "      <td>0</td>\n",
       "      <td>2</td>\n",
       "      <td>0</td>\n",
       "      <td>1</td>\n",
       "      <td>1</td>\n",
       "      <td>0</td>\n",
       "      <td>0</td>\n",
       "      <td>0</td>\n",
       "      <td>8.597667</td>\n",
       "      <td>1</td>\n",
       "      <td>...</td>\n",
       "      <td>0</td>\n",
       "      <td>0</td>\n",
       "      <td>0</td>\n",
       "      <td>0</td>\n",
       "      <td>0</td>\n",
       "      <td>29.0</td>\n",
       "      <td>0</td>\n",
       "      <td>0</td>\n",
       "      <td>1</td>\n",
       "      <td>0</td>\n",
       "    </tr>\n",
       "    <tr>\n",
       "      <td>3</td>\n",
       "      <td>1</td>\n",
       "      <td>4</td>\n",
       "      <td>0</td>\n",
       "      <td>1</td>\n",
       "      <td>0</td>\n",
       "      <td>0</td>\n",
       "      <td>0</td>\n",
       "      <td>0</td>\n",
       "      <td>8.597667</td>\n",
       "      <td>0</td>\n",
       "      <td>...</td>\n",
       "      <td>0</td>\n",
       "      <td>0</td>\n",
       "      <td>0</td>\n",
       "      <td>0</td>\n",
       "      <td>0</td>\n",
       "      <td>29.0</td>\n",
       "      <td>0</td>\n",
       "      <td>0</td>\n",
       "      <td>1</td>\n",
       "      <td>0</td>\n",
       "    </tr>\n",
       "    <tr>\n",
       "      <td>4</td>\n",
       "      <td>0</td>\n",
       "      <td>3</td>\n",
       "      <td>0</td>\n",
       "      <td>1</td>\n",
       "      <td>0</td>\n",
       "      <td>0</td>\n",
       "      <td>0</td>\n",
       "      <td>0</td>\n",
       "      <td>8.597667</td>\n",
       "      <td>0</td>\n",
       "      <td>...</td>\n",
       "      <td>0</td>\n",
       "      <td>0</td>\n",
       "      <td>0</td>\n",
       "      <td>0</td>\n",
       "      <td>0</td>\n",
       "      <td>29.0</td>\n",
       "      <td>0</td>\n",
       "      <td>1</td>\n",
       "      <td>1</td>\n",
       "      <td>0</td>\n",
       "    </tr>\n",
       "  </tbody>\n",
       "</table>\n",
       "<p>5 rows × 60 columns</p>\n",
       "</div>"
      ],
      "text/plain": [
       "   House  accommodates  Resort  host_has_profile_pic  host_is_superhost  \\\n",
       "0      0             3       0                     1                  1   \n",
       "1      0             2       0                     1                  1   \n",
       "2      0             2       0                     1                  1   \n",
       "3      1             4       0                     1                  0   \n",
       "4      0             3       0                     1                  0   \n",
       "\n",
       "   Shared room  40-49  20-29  poverty_percent  90-94  ...  Hotel  Tiny house  \\\n",
       "0            0      0      0         8.597667      0  ...      0           0   \n",
       "1            0      0      0         8.597667      0  ...      0           0   \n",
       "2            0      0      0         8.597667      1  ...      0           0   \n",
       "3            0      0      0         8.597667      0  ...      0           0   \n",
       "4            0      0      0         8.597667      0  ...      0           0   \n",
       "\n",
       "   Airbed  Bungalow  Futon  commute_time_mins  Pull-out Sofa  85-89  Real Bed  \\\n",
       "0       0         0      0               29.0              0      0         1   \n",
       "1       0         0      0               29.0              0      1         1   \n",
       "2       0         0      0               29.0              0      0         1   \n",
       "3       0         0      0               29.0              0      0         1   \n",
       "4       0         0      0               29.0              0      1         1   \n",
       "\n",
       "   80-84  \n",
       "0      0  \n",
       "1      0  \n",
       "2      0  \n",
       "3      0  \n",
       "4      0  \n",
       "\n",
       "[5 rows x 60 columns]"
      ]
     },
     "execution_count": 10,
     "metadata": {},
     "output_type": "execute_result"
    }
   ],
   "source": [
    "SF_X.head()\n",
    "# y_train"
   ]
  },
  {
   "cell_type": "markdown",
   "metadata": {},
   "source": [
    "## Lasso Regression"
   ]
  },
  {
   "cell_type": "code",
   "execution_count": 11,
   "metadata": {},
   "outputs": [
    {
     "data": {
      "text/plain": [
       "Lasso(alpha=0.06, copy_X=True, fit_intercept=True, max_iter=1000,\n",
       "      normalize=False, positive=False, precompute=False, random_state=None,\n",
       "      selection='cyclic', tol=0.0001, warm_start=False)"
      ]
     },
     "execution_count": 11,
     "metadata": {},
     "output_type": "execute_result"
    }
   ],
   "source": [
    "clf = linear_model.Lasso(alpha=0.06)\n",
    "clf.fit(X_train, y_train)\n",
    "# print(\"alpha chosen : \", clf.alpha_) #alpha = 0.06"
   ]
  },
  {
   "cell_type": "code",
   "execution_count": 12,
   "metadata": {},
   "outputs": [],
   "source": [
    "predictions = clf.predict(SF_X)"
   ]
  },
  {
   "cell_type": "code",
   "execution_count": 13,
   "metadata": {},
   "outputs": [
    {
     "name": "stdout",
     "output_type": "stream",
     "text": [
      "Mean Square Error:  0.28473180373107365\n"
     ]
    }
   ],
   "source": [
    "print(\"Mean Square Error: \", mean_squared_error(SF_y, predictions))"
   ]
  },
  {
   "cell_type": "code",
   "execution_count": 282,
   "metadata": {},
   "outputs": [],
   "source": [
    "validation_predict = clf.predict(X_test)"
   ]
  },
  {
   "cell_type": "code",
   "execution_count": 283,
   "metadata": {},
   "outputs": [
    {
     "name": "stdout",
     "output_type": "stream",
     "text": [
      "Mean Square Error:  0.168203073958985\n"
     ]
    }
   ],
   "source": [
    "print(\"Mean Square Error: \", mean_squared_error(y_test, validation_predict))"
   ]
  },
  {
   "cell_type": "code",
   "execution_count": 14,
   "metadata": {},
   "outputs": [
    {
     "data": {
      "text/plain": [
       "House                  -0.000000\n",
       "accommodates            0.124306\n",
       "Resort                  0.000000\n",
       "host_has_profile_pic   -0.000000\n",
       "host_is_superhost       0.000000\n",
       "dtype: float64"
      ]
     },
     "execution_count": 14,
     "metadata": {},
     "output_type": "execute_result"
    }
   ],
   "source": [
    "coef = pd.Series(clf.coef_, index = X_train.columns)\n",
    "coef.head()"
   ]
  },
  {
   "cell_type": "code",
   "execution_count": 15,
   "metadata": {},
   "outputs": [
    {
     "name": "stdout",
     "output_type": "stream",
     "text": [
      "Lasso picked 10 variables and eliminated the other 50 variables\n"
     ]
    }
   ],
   "source": [
    "print(\"Lasso picked \" + str(sum(coef != 0)) + \" variables and eliminated the other \" +  str(sum(coef == 0)) + \" variables\")\n"
   ]
  },
  {
   "cell_type": "code",
   "execution_count": 22,
   "metadata": {},
   "outputs": [
    {
     "data": {
      "text/plain": [
       "Text(0.5, 1.0, 'Coefficients in the Lasso Model')"
      ]
     },
     "execution_count": 22,
     "metadata": {},
     "output_type": "execute_result"
    },
    {
     "data": {
      "image/png": "[encoded data removed]",
      "text/plain": [
       "<Figure size 576x432 with 1 Axes>"
      ]
     },
     "metadata": {
      "needs_background": "light"
     },
     "output_type": "display_data"
    }
   ],
   "source": [
    "# imp_coef = pd.concat([coef.sort_values().head(10),\n",
    "#                      coef.sort_values().tail(10)])\n",
    "\n",
    "\n",
    "matplotlib.rcParams['figure.figsize'] = (8.0, 6.0)\n",
    "coef2.plot(kind = \"barh\")\n",
    "plt.title(\"Coefficients in the Lasso Model\")"
   ]
  },
  {
   "cell_type": "code",
   "execution_count": 17,
   "metadata": {},
   "outputs": [],
   "source": [
    "coef1 = pd.DataFrame(coef, columns = ['Coefficients'])\n",
    "# imp_coef = coef[] != 0coef.sort_values(ascending = False)"
   ]
  },
  {
   "cell_type": "code",
   "execution_count": 19,
   "metadata": {},
   "outputs": [],
   "source": [
    "coef2 = coef1[coef1 != 0].dropna()"
   ]
  },
  {
   "cell_type": "code",
   "execution_count": 20,
   "metadata": {},
   "outputs": [
    {
     "data": {
      "text/html": [
       "<div>\n",
       "<style scoped>\n",
       "    .dataframe tbody tr th:only-of-type {\n",
       "        vertical-align: middle;\n",
       "    }\n",
       "\n",
       "    .dataframe tbody tr th {\n",
       "        vertical-align: top;\n",
       "    }\n",
       "\n",
       "    .dataframe thead th {\n",
       "        text-align: right;\n",
       "    }\n",
       "</style>\n",
       "<table border=\"1\" class=\"dataframe\">\n",
       "  <thead>\n",
       "    <tr style=\"text-align: right;\">\n",
       "      <th></th>\n",
       "      <th>Coefficients</th>\n",
       "    </tr>\n",
       "  </thead>\n",
       "  <tbody>\n",
       "    <tr>\n",
       "      <td>accommodates</td>\n",
       "      <td>1.243062e-01</td>\n",
       "    </tr>\n",
       "    <tr>\n",
       "      <td>Entire home/apt</td>\n",
       "      <td>1.217451e-01</td>\n",
       "    </tr>\n",
       "    <tr>\n",
       "      <td>cleaning_fee</td>\n",
       "      <td>2.597241e-03</td>\n",
       "    </tr>\n",
       "    <tr>\n",
       "      <td>hotel_count</td>\n",
       "      <td>1.029536e-03</td>\n",
       "    </tr>\n",
       "    <tr>\n",
       "      <td>restaurant_density</td>\n",
       "      <td>2.905749e-04</td>\n",
       "    </tr>\n",
       "    <tr>\n",
       "      <td>security_deposit</td>\n",
       "      <td>7.893330e-05</td>\n",
       "    </tr>\n",
       "    <tr>\n",
       "      <td>dist_downtown</td>\n",
       "      <td>-3.134846e-07</td>\n",
       "    </tr>\n",
       "    <tr>\n",
       "      <td>number_of_reviews</td>\n",
       "      <td>-3.307190e-04</td>\n",
       "    </tr>\n",
       "    <tr>\n",
       "      <td>poverty_percent</td>\n",
       "      <td>-3.024291e-03</td>\n",
       "    </tr>\n",
       "    <tr>\n",
       "      <td>commute_time_mins</td>\n",
       "      <td>-2.843052e-02</td>\n",
       "    </tr>\n",
       "  </tbody>\n",
       "</table>\n",
       "</div>"
      ],
      "text/plain": [
       "                    Coefficients\n",
       "accommodates        1.243062e-01\n",
       "Entire home/apt     1.217451e-01\n",
       "cleaning_fee        2.597241e-03\n",
       "hotel_count         1.029536e-03\n",
       "restaurant_density  2.905749e-04\n",
       "security_deposit    7.893330e-05\n",
       "dist_downtown      -3.134846e-07\n",
       "number_of_reviews  -3.307190e-04\n",
       "poverty_percent    -3.024291e-03\n",
       "commute_time_mins  -2.843052e-02"
      ]
     },
     "execution_count": 20,
     "metadata": {},
     "output_type": "execute_result"
    }
   ],
   "source": [
    "coef2 = coef2.sort_values(by=['Coefficients'],ascending=False)\n",
    "coef2"
   ]
  },
  {
   "cell_type": "code",
   "execution_count": 24,
   "metadata": {},
   "outputs": [],
   "source": [
    "#check on correlation\n",
    "corr_matrix = X_train.corr()\n",
    "sol = (corr_matrix.where(np.triu(np.ones(corr_matrix.shape), k=1).astype(np.bool))\n",
    "                 .stack()\n",
    "                 .sort_values(ascending=False))"
   ]
  },
  {
   "cell_type": "code",
   "execution_count": 26,
   "metadata": {},
   "outputs": [
    {
     "data": {
      "text/plain": [
       "accommodates     beds                      0.757100\n",
       "beds             bedrooms                  0.665712\n",
       "accommodates     bedrooms                  0.662277\n",
       "Hotel room       Hotel                     0.612392\n",
       "accommodates     guests_included           0.597710\n",
       "beds             guests_included           0.519018\n",
       "accommodates     cleaning_fee              0.482448\n",
       "                 Entire home/apt           0.477641\n",
       "host_since       host_identity_verified    0.475762\n",
       "guests_included  bedrooms                  0.473097\n",
       "dtype: float64"
      ]
     },
     "execution_count": 26,
     "metadata": {},
     "output_type": "execute_result"
    }
   ],
   "source": [
    "sol.head(10)"
   ]
  },
  {
   "cell_type": "markdown",
   "metadata": {},
   "source": [
    "## Linear Regression"
   ]
  },
  {
   "cell_type": "code",
   "execution_count": 202,
   "metadata": {},
   "outputs": [
    {
     "name": "stdout",
     "output_type": "stream",
     "text": [
      "                            OLS Regression Results                            \n",
      "==============================================================================\n",
      "Dep. Variable:                  price   R-squared:                       0.683\n",
      "Model:                            OLS   Adj. R-squared:                  0.682\n",
      "Method:                 Least Squares   F-statistic:                     1054.\n",
      "Date:                Thu, 19 Dec 2019   Prob (F-statistic):               0.00\n",
      "Time:                        20:06:22   Log-Likelihood:                -12666.\n",
      "No. Observations:               29408   AIC:                         2.545e+04\n",
      "Df Residuals:                   29347   BIC:                         2.596e+04\n",
      "Df Model:                          60                                         \n",
      "Covariance Type:            nonrobust                                         \n",
      "==========================================================================================\n",
      "                             coef    std err          t      P>|t|      [0.025      0.975]\n",
      "------------------------------------------------------------------------------------------\n",
      "const                      3.2699      0.041     78.981      0.000       3.189       3.351\n",
      "host_since                 0.0055      0.001      4.816      0.000       0.003       0.008\n",
      "host_is_superhost          0.0375      0.006      6.542      0.000       0.026       0.049\n",
      "host_has_profile_pic      -0.0864      0.049     -1.757      0.079      -0.183       0.010\n",
      "host_identity_verified     0.0069      0.005      1.370      0.171      -0.003       0.017\n",
      "accommodates               0.0861      0.002     39.756      0.000       0.082       0.090\n",
      "bathrooms                  0.0838      0.006     14.064      0.000       0.072       0.096\n",
      "bedrooms                   0.0919      0.004     20.996      0.000       0.083       0.100\n",
      "beds                      -0.0222      0.003     -7.042      0.000      -0.028      -0.016\n",
      "security_deposit        4.643e-05   5.92e-06      7.850      0.000    3.48e-05     5.8e-05\n",
      "cleaning_fee               0.0012   5.35e-05     22.303      0.000       0.001       0.001\n",
      "guests_included            0.0235      0.002     10.127      0.000       0.019       0.028\n",
      "number_of_reviews         -0.0003   4.92e-05     -5.297      0.000      -0.000      -0.000\n",
      "commute_time_mins         -0.0286      0.000    -58.510      0.000      -0.030      -0.028\n",
      "sentiment_score            0.1396      0.019      7.305      0.000       0.102       0.177\n",
      "poverty_percent           -0.0019      0.000     -6.419      0.000      -0.002      -0.001\n",
      "restaurant_density         0.0002   3.84e-05      4.032      0.000    7.96e-05       0.000\n",
      "hotel_count                0.0009   7.21e-05     12.796      0.000       0.001       0.001\n",
      "dist_downtown          -1.288e-08   5.57e-08     -0.231      0.817   -1.22e-07    9.63e-08\n",
      "Aparthotel                 0.6469      0.141      4.579      0.000       0.370       0.924\n",
      "Apartment                 -0.0527      0.030     -1.767      0.077      -0.111       0.006\n",
      "Barn                   -2.296e-15   8.15e-16     -2.817      0.005   -3.89e-15   -6.99e-16\n",
      "Bed and breakfast          0.1288      0.064      2.014      0.044       0.003       0.254\n",
      "Boat                       0.5816      0.150      3.884      0.000       0.288       0.875\n",
      "Boutique hotel             0.7136      0.051     13.964      0.000       0.613       0.814\n",
      "Bungalow                   0.0722      0.075      0.958      0.338      -0.075       0.220\n",
      "Cabin                   2.314e-16   1.03e-15      0.225      0.822   -1.79e-15    2.25e-15\n",
      "Camper/RV                 -0.4407      0.131     -3.375      0.001      -0.697      -0.185\n",
      "Casa particular (Cuba)    -0.1868      0.360     -0.518      0.604      -0.893       0.519\n",
      "Castle                    -0.0327      0.360     -0.091      0.928      -0.739       0.673\n",
      "Cave                   -2.331e-16   4.22e-16     -0.552      0.581   -1.06e-15    5.94e-16\n",
      "Condominium                0.0760      0.032      2.369      0.018       0.013       0.139\n",
      "Cottage                   -0.0174      0.150     -0.116      0.908      -0.311       0.276\n",
      "Dome house                -0.1914      0.360     -0.531      0.595      -0.897       0.515\n",
      "Earth house               -0.1672      0.209     -0.798      0.425      -0.578       0.243\n",
      "Farm stay               4.162e-16   3.84e-16      1.085      0.278   -3.36e-16    1.17e-15\n",
      "Guest suite               -0.0498      0.037     -1.340      0.180      -0.123       0.023\n",
      "Guesthouse                -0.2272      0.067     -3.400      0.001      -0.358      -0.096\n",
      "Hostel                    -0.3523      0.065     -5.460      0.000      -0.479      -0.226\n",
      "Hotel                      0.2887      0.058      4.942      0.000       0.174       0.403\n",
      "House                     -0.0759      0.031     -2.478      0.013      -0.136      -0.016\n",
      "Houseboat                  0.6562      0.182      3.604      0.000       0.299       1.013\n",
      "Island                 -9.133e-16   2.79e-16     -3.269      0.001   -1.46e-15   -3.66e-16\n",
      "Loft                       0.0868      0.032      2.689      0.007       0.024       0.150\n",
      "Nature lodge            6.165e-16   5.31e-16      1.161      0.246   -4.24e-16    1.66e-15\n",
      "Other                      0.0274      0.055      0.494      0.622      -0.081       0.136\n",
      "Resort                     1.3169      0.071     18.458      0.000       1.177       1.457\n",
      "Serviced apartment         0.0478      0.038      1.244      0.213      -0.027       0.123\n",
      "Tent                       0.7092      0.163      4.343      0.000       0.389       1.029\n",
      "Tiny house                -0.0245      0.101     -0.244      0.807      -0.222       0.173\n",
      "Townhouse                 -0.0508      0.032     -1.602      0.109      -0.113       0.011\n",
      "Villa                     -0.2130      0.084     -2.539      0.011      -0.377      -0.049\n",
      "Entire home/apt            1.2197      0.015     80.794      0.000       1.190       1.249\n",
      "Hotel room                 0.9009      0.035     25.983      0.000       0.833       0.969\n",
      "Private room               0.7561      0.015     50.884      0.000       0.727       0.785\n",
      "Shared room                0.3932      0.018     21.529      0.000       0.357       0.429\n",
      "Airbed                     0.6394      0.034     18.756      0.000       0.573       0.706\n",
      "Couch                      0.7366      0.050     14.747      0.000       0.639       0.834\n",
      "Futon                      0.5895      0.028     21.281      0.000       0.535       0.644\n",
      "Pull-out Sofa              0.6753      0.029     23.272      0.000       0.618       0.732\n",
      "Real Bed                   0.6291      0.017     37.952      0.000       0.597       0.662\n",
      "20-29                      0.4697      0.044     10.608      0.000       0.383       0.556\n",
      "30-39                      0.4905      0.138      3.548      0.000       0.220       0.762\n",
      "40-49                      0.3179      0.041      7.836      0.000       0.238       0.397\n",
      "50-59                      0.3718      0.055      6.726      0.000       0.263       0.480\n",
      "60-69                      0.2455      0.025      9.952      0.000       0.197       0.294\n",
      "70-79                      0.2330      0.023     10.150      0.000       0.188       0.278\n",
      "80-84                      0.2614      0.019     13.718      0.000       0.224       0.299\n",
      "85-89                      0.2599      0.019     13.746      0.000       0.223       0.297\n",
      "90-94                      0.2812      0.018     15.552      0.000       0.246       0.317\n",
      "95-100                     0.3391      0.018     18.957      0.000       0.304       0.374\n",
      "==============================================================================\n",
      "Omnibus:                     8454.233   Durbin-Watson:                   2.003\n",
      "Prob(Omnibus):                  0.000   Jarque-Bera (JB):           117821.836\n",
      "Skew:                           0.996   Prob(JB):                         0.00\n",
      "Kurtosis:                      12.601   Cond. No.                     1.87e+16\n",
      "==============================================================================\n",
      "\n",
      "Warnings:\n",
      "[1] Standard Errors assume that the covariance matrix of the errors is correctly specified.\n",
      "[2] The smallest eigenvalue is 3.79e-19. This might indicate that there are\n",
      "strong multicollinearity problems or that the design matrix is singular.\n"
     ]
    }
   ],
   "source": [
    "X2 = sm.add_constant(X_train)\n",
    "est = sm.OLS(y_train, X2)\n",
    "est2 = est.fit()\n",
    "print(est2.summary())"
   ]
  },
  {
   "cell_type": "code",
   "execution_count": 201,
   "metadata": {},
   "outputs": [
    {
     "name": "stdout",
     "output_type": "stream",
     "text": [
      "                            OLS Regression Results                            \n",
      "==============================================================================\n",
      "Dep. Variable:                  price   R-squared:                       0.592\n",
      "Model:                            OLS   Adj. R-squared:                  0.588\n",
      "Method:                 Least Squares   F-statistic:                     158.7\n",
      "Date:                Thu, 19 Dec 2019   Prob (F-statistic):               0.00\n",
      "Time:                        20:06:16   Log-Likelihood:                -3898.0\n",
      "No. Observations:                6293   AIC:                             7912.\n",
      "Df Residuals:                    6235   BIC:                             8303.\n",
      "Df Model:                          57                                         \n",
      "Covariance Type:            nonrobust                                         \n",
      "==========================================================================================\n",
      "                             coef    std err          t      P>|t|      [0.025      0.975]\n",
      "------------------------------------------------------------------------------------------\n",
      "const                      3.1247      0.110     28.464      0.000       2.909       3.340\n",
      "host_since                -0.0017      0.003     -0.604      0.546      -0.007       0.004\n",
      "host_is_superhost          0.0250      0.013      1.921      0.055      -0.001       0.051\n",
      "host_has_profile_pic      -0.1386      0.075     -1.858      0.063      -0.285       0.008\n",
      "host_identity_verified     0.0602      0.013      4.582      0.000       0.034       0.086\n",
      "accommodates               0.1064      0.006     16.689      0.000       0.094       0.119\n",
      "bathrooms                 -0.0163      0.008     -2.095      0.036      -0.032      -0.001\n",
      "bedrooms                   0.1946      0.012     16.827      0.000       0.172       0.217\n",
      "beds                      -0.0438      0.010     -4.446      0.000      -0.063      -0.025\n",
      "security_deposit        1.898e-05   9.68e-06      1.960      0.050   -2.24e-09     3.8e-05\n",
      "cleaning_fee               0.0005      0.000      5.071      0.000       0.000       0.001\n",
      "guests_included            0.0314      0.005      5.991      0.000       0.021       0.042\n",
      "number_of_reviews         -0.0003   7.67e-05     -3.263      0.001      -0.000   -9.98e-05\n",
      "commute_time_mins         -0.0321      0.004     -8.343      0.000      -0.040      -0.025\n",
      "sentiment_score            0.3686      0.060      6.173      0.000       0.252       0.486\n",
      "poverty_percent           -0.0070      0.001     -5.016      0.000      -0.010      -0.004\n",
      "restaurant_density         0.0004   7.88e-05      5.565      0.000       0.000       0.001\n",
      "hotel_count              3.75e-05      0.000      0.252      0.801      -0.000       0.000\n",
      "dist_downtown           1.091e-06   1.36e-06      0.802      0.423   -1.58e-06    3.76e-06\n",
      "Aparthotel                 0.3338      0.084      3.983      0.000       0.170       0.498\n",
      "Apartment                 -0.0512      0.039     -1.309      0.191      -0.128       0.026\n",
      "Bed and breakfast          0.0350      0.084      0.416      0.677      -0.130       0.200\n",
      "Boutique hotel             0.4838      0.052      9.280      0.000       0.382       0.586\n",
      "Bungalow                  -0.1572      0.118     -1.327      0.185      -0.389       0.075\n",
      "Cabin                     -0.1536      0.309     -0.497      0.619      -0.759       0.452\n",
      "Castle                     0.0195      0.221      0.088      0.930      -0.414       0.453\n",
      "Condominium                0.1268      0.042      3.053      0.002       0.045       0.208\n",
      "Cottage                    0.1229      0.132      0.934      0.350      -0.135       0.381\n",
      "Dome house                -0.5033      0.435     -1.157      0.247      -1.356       0.350\n",
      "Earth house                0.2822      0.310      0.912      0.362      -0.325       0.889\n",
      "Guest suite               -0.0916      0.043     -2.118      0.034      -0.176      -0.007\n",
      "Guesthouse                -0.1088      0.080     -1.354      0.176      -0.266       0.049\n",
      "Hostel                    -0.0712      0.069     -1.032      0.302      -0.207       0.064\n",
      "Hotel                      0.6784      0.058     11.732      0.000       0.565       0.792\n",
      "House                     -0.0634      0.040     -1.600      0.110      -0.141       0.014\n",
      "In-law                     0.1115      0.435      0.256      0.798      -0.741       0.964\n",
      "Loft                       0.2972      0.062      4.797      0.000       0.176       0.419\n",
      "Other                      0.4139      0.099      4.198      0.000       0.221       0.607\n",
      "Resort                     0.9685      0.151      6.406      0.000       0.672       1.265\n",
      "Serviced apartment         0.0452      0.063      0.717      0.473      -0.078       0.169\n",
      "Tiny house                 0.0826      0.253      0.326      0.745      -0.414       0.579\n",
      "Townhouse                 -0.0036      0.056     -0.065      0.949      -0.113       0.106\n",
      "Villa                      0.3273      0.158      2.066      0.039       0.017       0.638\n",
      "Entire home/apt            1.2553      0.034     36.813      0.000       1.188       1.322\n",
      "Hotel room                 0.7480      0.044     17.172      0.000       0.663       0.833\n",
      "Private room               0.9130      0.033     27.738      0.000       0.848       0.978\n",
      "Shared room                0.2084      0.044      4.706      0.000       0.122       0.295\n",
      "Airbed                     0.3902      0.122      3.199      0.001       0.151       0.629\n",
      "Couch                      0.7987      0.158      5.054      0.000       0.489       1.109\n",
      "Futon                      0.6316      0.084      7.556      0.000       0.468       0.795\n",
      "Pull-out Sofa              0.6568      0.103      6.407      0.000       0.456       0.858\n",
      "Real Bed                   0.6473      0.052     12.531      0.000       0.546       0.749\n",
      "20-29                      0.2890      0.135      2.147      0.032       0.025       0.553\n",
      "30-39                      0.2758      0.412      0.670      0.503      -0.531       1.083\n",
      "40-49                      0.3627      0.121      3.002      0.003       0.126       0.600\n",
      "50-59                      0.0851      0.190      0.448      0.654      -0.287       0.458\n",
      "60-69                      0.3577      0.074      4.832      0.000       0.213       0.503\n",
      "70-79                      0.2912      0.071      4.115      0.000       0.152       0.430\n",
      "80-84                      0.2690      0.059      4.596      0.000       0.154       0.384\n",
      "85-89                      0.2711      0.057      4.737      0.000       0.159       0.383\n",
      "90-94                      0.3880      0.054      7.155      0.000       0.282       0.494\n",
      "95-100                     0.5350      0.054      9.994      0.000       0.430       0.640\n",
      "==============================================================================\n",
      "Omnibus:                     1996.869   Durbin-Watson:                   1.727\n",
      "Prob(Omnibus):                  0.000   Jarque-Bera (JB):            23785.551\n",
      "Skew:                           1.173   Prob(JB):                         0.00\n",
      "Kurtosis:                      12.231   Cond. No.                     1.62e+16\n",
      "==============================================================================\n",
      "\n",
      "Warnings:\n",
      "[1] Standard Errors assume that the covariance matrix of the errors is correctly specified.\n",
      "[2] The smallest eigenvalue is 7.57e-22. This might indicate that there are\n",
      "strong multicollinearity problems or that the design matrix is singular.\n"
     ]
    },
    {
     "name": "stderr",
     "output_type": "stream",
     "text": [
      "C:\\Users\\teoal\\Anaconda3\\lib\\site-packages\\numpy\\core\\fromnumeric.py:2389: FutureWarning: Method .ptp is deprecated and will be removed in a future version. Use numpy.ptp instead.\n",
      "  return ptp(axis=axis, out=out, **kwargs)\n"
     ]
    }
   ],
   "source": [
    "X2 = sm.add_constant(SF_X)\n",
    "est = sm.OLS(SF_y, X2)\n",
    "est2 = est.fit()\n",
    "print(est2.summary())"
   ]
  },
  {
   "cell_type": "code",
   "execution_count": 284,
   "metadata": {},
   "outputs": [],
   "source": [
    "# create linear regression object\n",
    "reg = linear_model.LinearRegression()"
   ]
  },
  {
   "cell_type": "code",
   "execution_count": 285,
   "metadata": {},
   "outputs": [
    {
     "name": "stdout",
     "output_type": "stream",
     "text": [
      "len of X_train cols  60\n"
     ]
    },
    {
     "data": {
      "text/plain": [
       "LinearRegression(copy_X=True, fit_intercept=True, n_jobs=None, normalize=False)"
      ]
     },
     "execution_count": 285,
     "metadata": {},
     "output_type": "execute_result"
    }
   ],
   "source": [
    "# train the model\n",
    "print(\"len of X_train cols \", len(X_train.columns))\n",
    "reg.fit(X_train, y_train)"
   ]
  },
  {
   "cell_type": "code",
   "execution_count": 286,
   "metadata": {},
   "outputs": [
    {
     "name": "stdout",
     "output_type": "stream",
     "text": [
      "len of SF_X cols  60\n"
     ]
    }
   ],
   "source": [
    "print(\"len of SF_X cols \", len(SF_X.columns))"
   ]
  },
  {
   "cell_type": "code",
   "execution_count": 287,
   "metadata": {},
   "outputs": [
    {
     "name": "stdout",
     "output_type": "stream",
     "text": [
      "Mean Square Error:  0.2458389493112655\n",
      "Mean Absolute Error:  0.3669930390485512\n",
      "R^2 Error:  0.5036400450844893\n"
     ]
    }
   ],
   "source": [
    "predictions = reg.predict(SF_X)\n",
    "print(\"Mean Square Error: \", mean_squared_error(SF_y, predictions))\n",
    "print(\"Mean Absolute Error: \", mean_absolute_error(SF_y, predictions))\n",
    "print(\"R^2 Error: \", r2_score(SF_y, predictions))"
   ]
  },
  {
   "cell_type": "code",
   "execution_count": 288,
   "metadata": {},
   "outputs": [
    {
     "name": "stdout",
     "output_type": "stream",
     "text": [
      "Mean Square Error:  0.1362315550716509\n"
     ]
    }
   ],
   "source": [
    "pred = reg.predict(X_test)\n",
    "print(\"Mean Square Error: \", mean_squared_error(y_test, pred))"
   ]
  },
  {
   "cell_type": "code",
   "execution_count": 180,
   "metadata": {},
   "outputs": [
    {
     "data": {
      "text/plain": [
       "0       5.135798\n",
       "1       4.595120\n",
       "2       5.459586\n",
       "3       4.174387\n",
       "4       4.174387\n",
       "          ...   \n",
       "6306    4.382027\n",
       "6307    4.867534\n",
       "6308    3.912023\n",
       "6309    4.317488\n",
       "6310    4.605170\n",
       "Name: price, Length: 6311, dtype: float64"
      ]
     },
     "execution_count": 180,
     "metadata": {},
     "output_type": "execute_result"
    }
   ],
   "source": [
    "SF_y"
   ]
  },
  {
   "cell_type": "code",
   "execution_count": 181,
   "metadata": {},
   "outputs": [
    {
     "data": {
      "text/plain": [
       "array([4.47970057, 3.9668239 , 4.67740897, ..., 3.99560664, 3.95811805,\n",
       "       4.41504236])"
      ]
     },
     "execution_count": 181,
     "metadata": {},
     "output_type": "execute_result"
    }
   ],
   "source": [
    "predictions"
   ]
  },
  {
   "cell_type": "markdown",
   "metadata": {},
   "source": [
    "# Feature Selection"
   ]
  },
  {
   "cell_type": "code",
   "execution_count": 128,
   "metadata": {},
   "outputs": [],
   "source": [
    "# ny_data = pd.read_csv('ny_listings_full_clean_dummies.csv', low_memory = False)\n",
    "y_train = np.log(ny_data['price'])"
   ]
  },
  {
   "cell_type": "code",
   "execution_count": 129,
   "metadata": {},
   "outputs": [],
   "source": [
    "X_train = ny_data.copy()\n",
    "X_train.drop('price', axis = 1, inplace = True)\n",
    "X_train.drop('zipcode', axis = 1, inplace = True)\n",
    "X_train.drop('id', axis = 1, inplace=True)\n",
    "X_train.drop('avg_income', axis = 1, inplace = True)"
   ]
  },
  {
   "cell_type": "code",
   "execution_count": 130,
   "metadata": {},
   "outputs": [
    {
     "name": "stdout",
     "output_type": "stream",
     "text": [
      "(36757, 133)\n"
     ]
    }
   ],
   "source": [
    "print(X_train.shape) #139 features"
   ]
  },
  {
   "cell_type": "code",
   "execution_count": 131,
   "metadata": {},
   "outputs": [
    {
     "data": {
      "text/html": [
       "<div>\n",
       "<style scoped>\n",
       "    .dataframe tbody tr th:only-of-type {\n",
       "        vertical-align: middle;\n",
       "    }\n",
       "\n",
       "    .dataframe tbody tr th {\n",
       "        vertical-align: top;\n",
       "    }\n",
       "\n",
       "    .dataframe thead th {\n",
       "        text-align: right;\n",
       "    }\n",
       "</style>\n",
       "<table border=\"1\" class=\"dataframe\">\n",
       "  <thead>\n",
       "    <tr style=\"text-align: right;\">\n",
       "      <th></th>\n",
       "      <th>commute</th>\n",
       "      <th>sentiment</th>\n",
       "      <th>poverty_percent</th>\n",
       "      <th>restaurant_density</th>\n",
       "      <th>host_since</th>\n",
       "      <th>host_is_superhost</th>\n",
       "      <th>host_listings_count</th>\n",
       "      <th>host_total_listings_count</th>\n",
       "      <th>host_has_profile_pic</th>\n",
       "      <th>host_identity_verified</th>\n",
       "      <th>...</th>\n",
       "      <th>rs_loc_0</th>\n",
       "      <th>rs_loc_2</th>\n",
       "      <th>rs_loc_3</th>\n",
       "      <th>rs_loc_4</th>\n",
       "      <th>rs_loc_5</th>\n",
       "      <th>rs_loc_6</th>\n",
       "      <th>rs_loc_7</th>\n",
       "      <th>rs_loc_8</th>\n",
       "      <th>rs_loc_9</th>\n",
       "      <th>rs_loc_10</th>\n",
       "    </tr>\n",
       "  </thead>\n",
       "  <tbody>\n",
       "    <tr>\n",
       "      <td>0</td>\n",
       "      <td>38.8</td>\n",
       "      <td>0.349518</td>\n",
       "      <td>13.598493</td>\n",
       "      <td>163</td>\n",
       "      <td>11.000000</td>\n",
       "      <td>0</td>\n",
       "      <td>1</td>\n",
       "      <td>1</td>\n",
       "      <td>1</td>\n",
       "      <td>1</td>\n",
       "      <td>...</td>\n",
       "      <td>0</td>\n",
       "      <td>0</td>\n",
       "      <td>0</td>\n",
       "      <td>0</td>\n",
       "      <td>0</td>\n",
       "      <td>0</td>\n",
       "      <td>0</td>\n",
       "      <td>0</td>\n",
       "      <td>0</td>\n",
       "      <td>1</td>\n",
       "    </tr>\n",
       "    <tr>\n",
       "      <td>1</td>\n",
       "      <td>33.2</td>\n",
       "      <td>0.306673</td>\n",
       "      <td>31.795272</td>\n",
       "      <td>220</td>\n",
       "      <td>10.854795</td>\n",
       "      <td>0</td>\n",
       "      <td>1</td>\n",
       "      <td>1</td>\n",
       "      <td>1</td>\n",
       "      <td>1</td>\n",
       "      <td>...</td>\n",
       "      <td>0</td>\n",
       "      <td>0</td>\n",
       "      <td>0</td>\n",
       "      <td>0</td>\n",
       "      <td>0</td>\n",
       "      <td>0</td>\n",
       "      <td>0</td>\n",
       "      <td>0</td>\n",
       "      <td>1</td>\n",
       "      <td>0</td>\n",
       "    </tr>\n",
       "    <tr>\n",
       "      <td>2</td>\n",
       "      <td>25.3</td>\n",
       "      <td>0.317464</td>\n",
       "      <td>10.749646</td>\n",
       "      <td>204</td>\n",
       "      <td>10.843836</td>\n",
       "      <td>0</td>\n",
       "      <td>1</td>\n",
       "      <td>1</td>\n",
       "      <td>1</td>\n",
       "      <td>0</td>\n",
       "      <td>...</td>\n",
       "      <td>0</td>\n",
       "      <td>0</td>\n",
       "      <td>0</td>\n",
       "      <td>0</td>\n",
       "      <td>0</td>\n",
       "      <td>0</td>\n",
       "      <td>0</td>\n",
       "      <td>0</td>\n",
       "      <td>1</td>\n",
       "      <td>0</td>\n",
       "    </tr>\n",
       "    <tr>\n",
       "      <td>3</td>\n",
       "      <td>24.0</td>\n",
       "      <td>0.287821</td>\n",
       "      <td>12.221671</td>\n",
       "      <td>230</td>\n",
       "      <td>10.764384</td>\n",
       "      <td>0</td>\n",
       "      <td>1</td>\n",
       "      <td>1</td>\n",
       "      <td>1</td>\n",
       "      <td>0</td>\n",
       "      <td>...</td>\n",
       "      <td>0</td>\n",
       "      <td>0</td>\n",
       "      <td>0</td>\n",
       "      <td>0</td>\n",
       "      <td>0</td>\n",
       "      <td>0</td>\n",
       "      <td>0</td>\n",
       "      <td>0</td>\n",
       "      <td>0</td>\n",
       "      <td>1</td>\n",
       "    </tr>\n",
       "    <tr>\n",
       "      <td>4</td>\n",
       "      <td>31.2</td>\n",
       "      <td>0.428167</td>\n",
       "      <td>16.020548</td>\n",
       "      <td>194</td>\n",
       "      <td>10.835616</td>\n",
       "      <td>0</td>\n",
       "      <td>1</td>\n",
       "      <td>1</td>\n",
       "      <td>1</td>\n",
       "      <td>1</td>\n",
       "      <td>...</td>\n",
       "      <td>0</td>\n",
       "      <td>0</td>\n",
       "      <td>0</td>\n",
       "      <td>0</td>\n",
       "      <td>0</td>\n",
       "      <td>0</td>\n",
       "      <td>0</td>\n",
       "      <td>0</td>\n",
       "      <td>0</td>\n",
       "      <td>1</td>\n",
       "    </tr>\n",
       "    <tr>\n",
       "      <td>...</td>\n",
       "      <td>...</td>\n",
       "      <td>...</td>\n",
       "      <td>...</td>\n",
       "      <td>...</td>\n",
       "      <td>...</td>\n",
       "      <td>...</td>\n",
       "      <td>...</td>\n",
       "      <td>...</td>\n",
       "      <td>...</td>\n",
       "      <td>...</td>\n",
       "      <td>...</td>\n",
       "      <td>...</td>\n",
       "      <td>...</td>\n",
       "      <td>...</td>\n",
       "      <td>...</td>\n",
       "      <td>...</td>\n",
       "      <td>...</td>\n",
       "      <td>...</td>\n",
       "      <td>...</td>\n",
       "      <td>...</td>\n",
       "      <td>...</td>\n",
       "    </tr>\n",
       "    <tr>\n",
       "      <td>36752</td>\n",
       "      <td>32.1</td>\n",
       "      <td>1.000000</td>\n",
       "      <td>6.892559</td>\n",
       "      <td>140</td>\n",
       "      <td>3.632877</td>\n",
       "      <td>0</td>\n",
       "      <td>8</td>\n",
       "      <td>8</td>\n",
       "      <td>1</td>\n",
       "      <td>0</td>\n",
       "      <td>...</td>\n",
       "      <td>0</td>\n",
       "      <td>0</td>\n",
       "      <td>0</td>\n",
       "      <td>0</td>\n",
       "      <td>0</td>\n",
       "      <td>0</td>\n",
       "      <td>0</td>\n",
       "      <td>0</td>\n",
       "      <td>0</td>\n",
       "      <td>1</td>\n",
       "    </tr>\n",
       "    <tr>\n",
       "      <td>36753</td>\n",
       "      <td>32.1</td>\n",
       "      <td>0.353611</td>\n",
       "      <td>6.892559</td>\n",
       "      <td>140</td>\n",
       "      <td>3.632877</td>\n",
       "      <td>0</td>\n",
       "      <td>8</td>\n",
       "      <td>8</td>\n",
       "      <td>1</td>\n",
       "      <td>0</td>\n",
       "      <td>...</td>\n",
       "      <td>0</td>\n",
       "      <td>0</td>\n",
       "      <td>0</td>\n",
       "      <td>0</td>\n",
       "      <td>0</td>\n",
       "      <td>0</td>\n",
       "      <td>0</td>\n",
       "      <td>0</td>\n",
       "      <td>0</td>\n",
       "      <td>1</td>\n",
       "    </tr>\n",
       "    <tr>\n",
       "      <td>36754</td>\n",
       "      <td>47.8</td>\n",
       "      <td>0.286071</td>\n",
       "      <td>10.039251</td>\n",
       "      <td>62</td>\n",
       "      <td>3.484932</td>\n",
       "      <td>0</td>\n",
       "      <td>1</td>\n",
       "      <td>1</td>\n",
       "      <td>1</td>\n",
       "      <td>0</td>\n",
       "      <td>...</td>\n",
       "      <td>0</td>\n",
       "      <td>0</td>\n",
       "      <td>0</td>\n",
       "      <td>0</td>\n",
       "      <td>0</td>\n",
       "      <td>0</td>\n",
       "      <td>0</td>\n",
       "      <td>0</td>\n",
       "      <td>0</td>\n",
       "      <td>1</td>\n",
       "    </tr>\n",
       "    <tr>\n",
       "      <td>36755</td>\n",
       "      <td>30.5</td>\n",
       "      <td>0.426548</td>\n",
       "      <td>24.707368</td>\n",
       "      <td>269</td>\n",
       "      <td>0.238356</td>\n",
       "      <td>0</td>\n",
       "      <td>0</td>\n",
       "      <td>0</td>\n",
       "      <td>1</td>\n",
       "      <td>0</td>\n",
       "      <td>...</td>\n",
       "      <td>0</td>\n",
       "      <td>0</td>\n",
       "      <td>0</td>\n",
       "      <td>0</td>\n",
       "      <td>0</td>\n",
       "      <td>0</td>\n",
       "      <td>0</td>\n",
       "      <td>0</td>\n",
       "      <td>0</td>\n",
       "      <td>1</td>\n",
       "    </tr>\n",
       "    <tr>\n",
       "      <td>36756</td>\n",
       "      <td>30.5</td>\n",
       "      <td>0.521875</td>\n",
       "      <td>24.707368</td>\n",
       "      <td>269</td>\n",
       "      <td>1.095890</td>\n",
       "      <td>0</td>\n",
       "      <td>11</td>\n",
       "      <td>11</td>\n",
       "      <td>1</td>\n",
       "      <td>0</td>\n",
       "      <td>...</td>\n",
       "      <td>0</td>\n",
       "      <td>0</td>\n",
       "      <td>0</td>\n",
       "      <td>0</td>\n",
       "      <td>0</td>\n",
       "      <td>0</td>\n",
       "      <td>0</td>\n",
       "      <td>0</td>\n",
       "      <td>0</td>\n",
       "      <td>1</td>\n",
       "    </tr>\n",
       "  </tbody>\n",
       "</table>\n",
       "<p>36757 rows × 133 columns</p>\n",
       "</div>"
      ],
      "text/plain": [
       "       commute  sentiment  poverty_percent  restaurant_density  host_since  \\\n",
       "0         38.8   0.349518        13.598493                 163   11.000000   \n",
       "1         33.2   0.306673        31.795272                 220   10.854795   \n",
       "2         25.3   0.317464        10.749646                 204   10.843836   \n",
       "3         24.0   0.287821        12.221671                 230   10.764384   \n",
       "4         31.2   0.428167        16.020548                 194   10.835616   \n",
       "...        ...        ...              ...                 ...         ...   \n",
       "36752     32.1   1.000000         6.892559                 140    3.632877   \n",
       "36753     32.1   0.353611         6.892559                 140    3.632877   \n",
       "36754     47.8   0.286071        10.039251                  62    3.484932   \n",
       "36755     30.5   0.426548        24.707368                 269    0.238356   \n",
       "36756     30.5   0.521875        24.707368                 269    1.095890   \n",
       "\n",
       "       host_is_superhost  host_listings_count  host_total_listings_count  \\\n",
       "0                      0                    1                          1   \n",
       "1                      0                    1                          1   \n",
       "2                      0                    1                          1   \n",
       "3                      0                    1                          1   \n",
       "4                      0                    1                          1   \n",
       "...                  ...                  ...                        ...   \n",
       "36752                  0                    8                          8   \n",
       "36753                  0                    8                          8   \n",
       "36754                  0                    1                          1   \n",
       "36755                  0                    0                          0   \n",
       "36756                  0                   11                         11   \n",
       "\n",
       "       host_has_profile_pic  host_identity_verified  ...  rs_loc_0  rs_loc_2  \\\n",
       "0                         1                       1  ...         0         0   \n",
       "1                         1                       1  ...         0         0   \n",
       "2                         1                       0  ...         0         0   \n",
       "3                         1                       0  ...         0         0   \n",
       "4                         1                       1  ...         0         0   \n",
       "...                     ...                     ...  ...       ...       ...   \n",
       "36752                     1                       0  ...         0         0   \n",
       "36753                     1                       0  ...         0         0   \n",
       "36754                     1                       0  ...         0         0   \n",
       "36755                     1                       0  ...         0         0   \n",
       "36756                     1                       0  ...         0         0   \n",
       "\n",
       "       rs_loc_3  rs_loc_4  rs_loc_5  rs_loc_6  rs_loc_7  rs_loc_8  rs_loc_9  \\\n",
       "0             0         0         0         0         0         0         0   \n",
       "1             0         0         0         0         0         0         1   \n",
       "2             0         0         0         0         0         0         1   \n",
       "3             0         0         0         0         0         0         0   \n",
       "4             0         0         0         0         0         0         0   \n",
       "...         ...       ...       ...       ...       ...       ...       ...   \n",
       "36752         0         0         0         0         0         0         0   \n",
       "36753         0         0         0         0         0         0         0   \n",
       "36754         0         0         0         0         0         0         0   \n",
       "36755         0         0         0         0         0         0         0   \n",
       "36756         0         0         0         0         0         0         0   \n",
       "\n",
       "       rs_loc_10  \n",
       "0              1  \n",
       "1              0  \n",
       "2              0  \n",
       "3              1  \n",
       "4              1  \n",
       "...          ...  \n",
       "36752          1  \n",
       "36753          1  \n",
       "36754          1  \n",
       "36755          1  \n",
       "36756          1  \n",
       "\n",
       "[36757 rows x 133 columns]"
      ]
     },
     "execution_count": 131,
     "metadata": {},
     "output_type": "execute_result"
    }
   ],
   "source": [
    "X_train"
   ]
  },
  {
   "cell_type": "code",
   "execution_count": 132,
   "metadata": {},
   "outputs": [],
   "source": [
    "X_train = normalize_sf(X_train, X_train)"
   ]
  },
  {
   "cell_type": "code",
   "execution_count": 133,
   "metadata": {},
   "outputs": [],
   "source": [
    "clf = LassoCV()\n",
    "sfm = SelectFromModel(clf)"
   ]
  },
  {
   "cell_type": "code",
   "execution_count": 134,
   "metadata": {},
   "outputs": [
    {
     "name": "stderr",
     "output_type": "stream",
     "text": [
      "C:\\Users\\teoal\\Anaconda3\\lib\\site-packages\\sklearn\\model_selection\\_split.py:1978: FutureWarning: The default value of cv will change from 3 to 5 in version 0.22. Specify it explicitly to silence this warning.\n",
      "  warnings.warn(CV_WARNING, FutureWarning)\n"
     ]
    },
    {
     "data": {
      "text/plain": [
       "SelectFromModel(estimator=LassoCV(alphas=None, copy_X=True, cv='warn',\n",
       "                                  eps=0.001, fit_intercept=True, max_iter=1000,\n",
       "                                  n_alphas=100, n_jobs=None, normalize=False,\n",
       "                                  positive=False, precompute='auto',\n",
       "                                  random_state=None, selection='cyclic',\n",
       "                                  tol=0.0001, verbose=False),\n",
       "                max_features=None, norm_order=1, prefit=False, threshold=None)"
      ]
     },
     "execution_count": 134,
     "metadata": {},
     "output_type": "execute_result"
    }
   ],
   "source": [
    "sfm.fit(X_train, y_train)"
   ]
  },
  {
   "cell_type": "code",
   "execution_count": 135,
   "metadata": {},
   "outputs": [
    {
     "data": {
      "text/plain": [
       "array([-2.22891629e-01,  1.71267286e-02, -1.41150160e-02,  7.42948783e-03,\n",
       "        7.20276168e-03,  1.41386996e-02, -0.00000000e+00, -0.00000000e+00,\n",
       "       -1.72247658e-03,  1.80635156e-03,  1.62637474e-01,  3.30045173e-02,\n",
       "        6.48134978e-02, -1.87485413e-02,  1.65035409e-02,  6.23140758e-02,\n",
       "        2.88661427e-02,  0.00000000e+00, -1.72589887e-02, -2.53370969e-02,\n",
       "        2.69550907e-03,  0.00000000e+00, -0.00000000e+00,  8.08262005e-03,\n",
       "       -1.41136691e-04,  9.16107829e-03, -1.55006207e-03, -0.00000000e+00,\n",
       "        2.97535522e-03,  5.97078689e-03,  4.14028920e-02,  3.31544718e-03,\n",
       "       -2.11459454e-03, -5.88939855e-03, -0.00000000e+00,  0.00000000e+00,\n",
       "       -3.47413100e-04,  1.91540211e-02,  0.00000000e+00, -0.00000000e+00,\n",
       "       -0.00000000e+00,  0.00000000e+00, -0.00000000e+00, -3.10775006e-03,\n",
       "       -9.13173186e-03,  1.90753011e-02, -6.63788553e-03,  5.57407349e-03,\n",
       "       -0.00000000e+00,  2.07301157e-02,  5.55302635e-04,  3.14456703e-03,\n",
       "        4.21492627e-02,  6.01767990e-03,  7.17499904e-03,  0.00000000e+00,\n",
       "        0.00000000e+00, -3.36766042e-03,  2.30502094e-01,  1.15688521e-02,\n",
       "       -0.00000000e+00, -5.30586276e-02, -0.00000000e+00,  1.43186718e-03,\n",
       "       -1.13328325e-03,  2.04229875e-03, -0.00000000e+00,  6.45923706e-04,\n",
       "        0.00000000e+00, -1.08511101e-03, -2.25404539e-03, -6.00319411e-03,\n",
       "       -1.81633582e-05, -2.73093664e-03,  1.09522025e-03, -1.29750694e-03,\n",
       "        2.25041613e-03, -3.90235420e-03, -0.00000000e+00,  0.00000000e+00,\n",
       "       -1.18449804e-03, -0.00000000e+00,  1.26184294e-02, -1.23979828e-05,\n",
       "        3.72813919e-03, -2.15335453e-03, -9.49743856e-04, -1.17057914e-03,\n",
       "       -0.00000000e+00, -0.00000000e+00, -7.87355482e-04, -0.00000000e+00,\n",
       "        0.00000000e+00,  2.26096674e-04, -2.60615893e-03, -3.31565039e-03,\n",
       "       -3.64530225e-03, -2.58266540e-03, -8.57985298e-03, -1.12640110e-02,\n",
       "       -1.06481639e-02,  0.00000000e+00,  2.51156169e-02, -6.78429769e-03,\n",
       "        2.35407348e-03,  8.90897861e-04, -6.30832797e-04,  0.00000000e+00,\n",
       "        6.38414861e-05,  4.24934470e-03, -1.14384206e-03,  0.00000000e+00,\n",
       "       -0.00000000e+00, -0.00000000e+00,  0.00000000e+00,  1.92348120e-03,\n",
       "        1.22556776e-03, -0.00000000e+00,  0.00000000e+00, -2.39063457e-03,\n",
       "       -0.00000000e+00, -0.00000000e+00,  2.52971989e-03, -0.00000000e+00,\n",
       "        3.68218613e-03,  0.00000000e+00, -0.00000000e+00,  0.00000000e+00,\n",
       "       -0.00000000e+00,  0.00000000e+00, -0.00000000e+00, -4.02251960e-03,\n",
       "        1.84680219e-02])"
      ]
     },
     "execution_count": 135,
     "metadata": {},
     "output_type": "execute_result"
    }
   ],
   "source": [
    "sfm.estimator_.coef_"
   ]
  },
  {
   "cell_type": "code",
   "execution_count": 136,
   "metadata": {},
   "outputs": [
    {
     "data": {
      "text/plain": [
       "1e-05"
      ]
     },
     "execution_count": 136,
     "metadata": {},
     "output_type": "execute_result"
    }
   ],
   "source": [
    "sfm.threshold_ #1e-05"
   ]
  },
  {
   "cell_type": "code",
   "execution_count": 137,
   "metadata": {},
   "outputs": [
    {
     "data": {
      "text/plain": [
       "array([ True,  True,  True,  True,  True,  True, False, False,  True,\n",
       "        True,  True,  True,  True,  True,  True,  True,  True, False,\n",
       "        True,  True,  True, False, False,  True,  True,  True,  True,\n",
       "       False,  True,  True,  True,  True,  True,  True, False, False,\n",
       "        True,  True, False, False, False, False, False,  True,  True,\n",
       "        True,  True,  True, False,  True,  True,  True,  True,  True,\n",
       "        True, False, False,  True,  True,  True, False,  True, False,\n",
       "        True,  True,  True, False,  True, False,  True,  True,  True,\n",
       "        True,  True,  True,  True,  True,  True, False, False,  True,\n",
       "       False,  True,  True,  True,  True,  True,  True, False, False,\n",
       "        True, False, False,  True,  True,  True,  True,  True,  True,\n",
       "        True,  True, False,  True,  True,  True,  True,  True, False,\n",
       "        True,  True,  True, False, False, False, False,  True,  True,\n",
       "       False, False,  True, False, False,  True, False,  True, False,\n",
       "       False, False, False, False, False,  True,  True])"
      ]
     },
     "execution_count": 137,
     "metadata": {},
     "output_type": "execute_result"
    }
   ],
   "source": [
    "sfm.get_support()"
   ]
  },
  {
   "cell_type": "code",
   "execution_count": 138,
   "metadata": {},
   "outputs": [],
   "source": [
    "X_train_cols = list(X_train.columns)"
   ]
  },
  {
   "cell_type": "code",
   "execution_count": 139,
   "metadata": {},
   "outputs": [],
   "source": [
    "support_list = sfm.get_support().tolist()"
   ]
  },
  {
   "cell_type": "code",
   "execution_count": 140,
   "metadata": {},
   "outputs": [],
   "source": [
    "remaining_cols = []\n",
    "for i in range(0, len(support_list)):\n",
    "    if support_list[i]:\n",
    "        remaining_cols.append(X_train_cols[i])"
   ]
  },
  {
   "cell_type": "code",
   "execution_count": 141,
   "metadata": {},
   "outputs": [
    {
     "data": {
      "text/plain": [
       "['commute',\n",
       " 'sentiment',\n",
       " 'poverty_percent',\n",
       " 'restaurant_density',\n",
       " 'host_since',\n",
       " 'host_is_superhost',\n",
       " 'host_has_profile_pic',\n",
       " 'host_identity_verified',\n",
       " 'accommodates',\n",
       " 'bathrooms',\n",
       " 'bedrooms',\n",
       " 'beds',\n",
       " 'security_deposit',\n",
       " 'cleaning_fee',\n",
       " 'guests_included',\n",
       " 'number_of_reviews_ltm',\n",
       " 'review_scores_value',\n",
       " 'instant_bookable',\n",
       " 'require_guest_phone_verification',\n",
       " 'reviews_per_month',\n",
       " 'Aparthotel',\n",
       " 'Apartment',\n",
       " 'Bed and breakfast',\n",
       " 'Boat',\n",
       " 'Boutique hotel',\n",
       " 'Bungalow',\n",
       " 'Cabin',\n",
       " 'Camper/RV',\n",
       " 'Cave',\n",
       " 'Condominium',\n",
       " 'Guesthouse',\n",
       " 'Hostel',\n",
       " 'Hotel',\n",
       " 'House',\n",
       " 'Houseboat',\n",
       " 'Loft',\n",
       " 'Nature lodge',\n",
       " 'Other',\n",
       " 'Resort',\n",
       " 'Serviced apartment',\n",
       " 'Tent',\n",
       " 'Villa',\n",
       " 'Entire home/apt',\n",
       " 'Hotel room',\n",
       " 'Shared room',\n",
       " 'Couch',\n",
       " 'Futon',\n",
       " 'Pull-out Sofa',\n",
       " 'flexible',\n",
       " 'strict',\n",
       " 'strict_14_with_grace_period',\n",
       " 'super_strict_30',\n",
       " 'super_strict_60',\n",
       " '20-29',\n",
       " '30-39',\n",
       " '40-49',\n",
       " '50-59',\n",
       " '60-69',\n",
       " '85-89',\n",
       " '95-100',\n",
       " 'rs_acc_0',\n",
       " 'rs_acc_2',\n",
       " 'rs_acc_3',\n",
       " 'rs_acc_4',\n",
       " 'rs_acc_5',\n",
       " 'rs_acc_8',\n",
       " 'rs_clean_0',\n",
       " 'rs_clean_2',\n",
       " 'rs_clean_3',\n",
       " 'rs_clean_4',\n",
       " 'rs_clean_5',\n",
       " 'rs_clean_6',\n",
       " 'rs_clean_7',\n",
       " 'rs_clean_8',\n",
       " 'rs_clean_10',\n",
       " 'rs_chkin_0',\n",
       " 'rs_chkin_2',\n",
       " 'rs_chkin_3',\n",
       " 'rs_chkin_4',\n",
       " 'rs_chkin_6',\n",
       " 'rs_chkin_7',\n",
       " 'rs_chkin_8',\n",
       " 'rs_comm_3',\n",
       " 'rs_comm_4',\n",
       " 'rs_comm_7',\n",
       " 'rs_comm_10',\n",
       " 'rs_loc_2',\n",
       " 'rs_loc_9',\n",
       " 'rs_loc_10']"
      ]
     },
     "execution_count": 141,
     "metadata": {},
     "output_type": "execute_result"
    }
   ],
   "source": [
    "remaining_cols"
   ]
  },
  {
   "cell_type": "code",
   "execution_count": 142,
   "metadata": {
    "scrolled": true
   },
   "outputs": [
    {
     "data": {
      "text/plain": [
       "133"
      ]
     },
     "execution_count": 142,
     "metadata": {},
     "output_type": "execute_result"
    }
   ],
   "source": [
    "sfm.get_support().size"
   ]
  },
  {
   "cell_type": "code",
   "execution_count": 135,
   "metadata": {},
   "outputs": [],
   "source": [
    "# n_features = sfm.transform(X_train)"
   ]
  },
  {
   "cell_type": "code",
   "execution_count": 115,
   "metadata": {},
   "outputs": [],
   "source": [
    "# n_features"
   ]
  },
  {
   "cell_type": "code",
   "execution_count": 143,
   "metadata": {},
   "outputs": [],
   "source": [
    "# get new X_train, rename as X_train1\n",
    "X_train1 = pd.DataFrame()\n",
    "for item in remaining_cols:\n",
    "    X_train1[item] = X_train[item]"
   ]
  },
  {
   "cell_type": "code",
   "execution_count": 117,
   "metadata": {},
   "outputs": [],
   "source": [
    "#add back log(price)\n",
    "#X_train1['price'] = y_train"
   ]
  },
  {
   "cell_type": "code",
   "execution_count": 144,
   "metadata": {},
   "outputs": [
    {
     "data": {
      "text/plain": [
       "(36757, 89)"
      ]
     },
     "execution_count": 144,
     "metadata": {},
     "output_type": "execute_result"
    }
   ],
   "source": [
    "X_train1.shape #36760, 93"
   ]
  },
  {
   "cell_type": "code",
   "execution_count": 145,
   "metadata": {},
   "outputs": [],
   "source": [
    "#un-normalized version of X\n",
    "X_train_unnorm = pd.DataFrame()\n",
    "for item in remaining_cols:\n",
    "    X_train_unnorm[item] = ny_data[item]"
   ]
  },
  {
   "cell_type": "code",
   "execution_count": 146,
   "metadata": {
    "scrolled": true
   },
   "outputs": [
    {
     "data": {
      "text/html": [
       "<div>\n",
       "<style scoped>\n",
       "    .dataframe tbody tr th:only-of-type {\n",
       "        vertical-align: middle;\n",
       "    }\n",
       "\n",
       "    .dataframe tbody tr th {\n",
       "        vertical-align: top;\n",
       "    }\n",
       "\n",
       "    .dataframe thead th {\n",
       "        text-align: right;\n",
       "    }\n",
       "</style>\n",
       "<table border=\"1\" class=\"dataframe\">\n",
       "  <thead>\n",
       "    <tr style=\"text-align: right;\">\n",
       "      <th></th>\n",
       "      <th>commute</th>\n",
       "      <th>sentiment</th>\n",
       "      <th>poverty_percent</th>\n",
       "      <th>restaurant_density</th>\n",
       "      <th>host_since</th>\n",
       "      <th>host_is_superhost</th>\n",
       "      <th>host_has_profile_pic</th>\n",
       "      <th>host_identity_verified</th>\n",
       "      <th>accommodates</th>\n",
       "      <th>bathrooms</th>\n",
       "      <th>...</th>\n",
       "      <th>rs_chkin_6</th>\n",
       "      <th>rs_chkin_7</th>\n",
       "      <th>rs_chkin_8</th>\n",
       "      <th>rs_comm_3</th>\n",
       "      <th>rs_comm_4</th>\n",
       "      <th>rs_comm_7</th>\n",
       "      <th>rs_comm_10</th>\n",
       "      <th>rs_loc_2</th>\n",
       "      <th>rs_loc_9</th>\n",
       "      <th>rs_loc_10</th>\n",
       "    </tr>\n",
       "  </thead>\n",
       "  <tbody>\n",
       "    <tr>\n",
       "      <td>0</td>\n",
       "      <td>38.8</td>\n",
       "      <td>0.349518</td>\n",
       "      <td>13.598493</td>\n",
       "      <td>163</td>\n",
       "      <td>11.000000</td>\n",
       "      <td>0</td>\n",
       "      <td>1</td>\n",
       "      <td>1</td>\n",
       "      <td>3</td>\n",
       "      <td>1.0</td>\n",
       "      <td>...</td>\n",
       "      <td>0</td>\n",
       "      <td>0</td>\n",
       "      <td>0</td>\n",
       "      <td>0</td>\n",
       "      <td>0</td>\n",
       "      <td>0</td>\n",
       "      <td>0</td>\n",
       "      <td>0</td>\n",
       "      <td>0</td>\n",
       "      <td>1</td>\n",
       "    </tr>\n",
       "    <tr>\n",
       "      <td>1</td>\n",
       "      <td>33.2</td>\n",
       "      <td>0.306673</td>\n",
       "      <td>31.795272</td>\n",
       "      <td>220</td>\n",
       "      <td>10.854795</td>\n",
       "      <td>0</td>\n",
       "      <td>1</td>\n",
       "      <td>1</td>\n",
       "      <td>1</td>\n",
       "      <td>1.0</td>\n",
       "      <td>...</td>\n",
       "      <td>0</td>\n",
       "      <td>0</td>\n",
       "      <td>0</td>\n",
       "      <td>0</td>\n",
       "      <td>0</td>\n",
       "      <td>0</td>\n",
       "      <td>1</td>\n",
       "      <td>0</td>\n",
       "      <td>1</td>\n",
       "      <td>0</td>\n",
       "    </tr>\n",
       "    <tr>\n",
       "      <td>2</td>\n",
       "      <td>25.3</td>\n",
       "      <td>0.317464</td>\n",
       "      <td>10.749646</td>\n",
       "      <td>204</td>\n",
       "      <td>10.843836</td>\n",
       "      <td>0</td>\n",
       "      <td>1</td>\n",
       "      <td>0</td>\n",
       "      <td>2</td>\n",
       "      <td>1.0</td>\n",
       "      <td>...</td>\n",
       "      <td>0</td>\n",
       "      <td>0</td>\n",
       "      <td>0</td>\n",
       "      <td>0</td>\n",
       "      <td>0</td>\n",
       "      <td>0</td>\n",
       "      <td>1</td>\n",
       "      <td>0</td>\n",
       "      <td>1</td>\n",
       "      <td>0</td>\n",
       "    </tr>\n",
       "    <tr>\n",
       "      <td>3</td>\n",
       "      <td>24.0</td>\n",
       "      <td>0.287821</td>\n",
       "      <td>12.221671</td>\n",
       "      <td>230</td>\n",
       "      <td>10.764384</td>\n",
       "      <td>0</td>\n",
       "      <td>1</td>\n",
       "      <td>0</td>\n",
       "      <td>2</td>\n",
       "      <td>1.0</td>\n",
       "      <td>...</td>\n",
       "      <td>0</td>\n",
       "      <td>0</td>\n",
       "      <td>0</td>\n",
       "      <td>0</td>\n",
       "      <td>0</td>\n",
       "      <td>0</td>\n",
       "      <td>0</td>\n",
       "      <td>0</td>\n",
       "      <td>0</td>\n",
       "      <td>1</td>\n",
       "    </tr>\n",
       "    <tr>\n",
       "      <td>4</td>\n",
       "      <td>31.2</td>\n",
       "      <td>0.428167</td>\n",
       "      <td>16.020548</td>\n",
       "      <td>194</td>\n",
       "      <td>10.835616</td>\n",
       "      <td>0</td>\n",
       "      <td>1</td>\n",
       "      <td>1</td>\n",
       "      <td>1</td>\n",
       "      <td>1.0</td>\n",
       "      <td>...</td>\n",
       "      <td>0</td>\n",
       "      <td>0</td>\n",
       "      <td>0</td>\n",
       "      <td>0</td>\n",
       "      <td>0</td>\n",
       "      <td>0</td>\n",
       "      <td>1</td>\n",
       "      <td>0</td>\n",
       "      <td>0</td>\n",
       "      <td>1</td>\n",
       "    </tr>\n",
       "    <tr>\n",
       "      <td>...</td>\n",
       "      <td>...</td>\n",
       "      <td>...</td>\n",
       "      <td>...</td>\n",
       "      <td>...</td>\n",
       "      <td>...</td>\n",
       "      <td>...</td>\n",
       "      <td>...</td>\n",
       "      <td>...</td>\n",
       "      <td>...</td>\n",
       "      <td>...</td>\n",
       "      <td>...</td>\n",
       "      <td>...</td>\n",
       "      <td>...</td>\n",
       "      <td>...</td>\n",
       "      <td>...</td>\n",
       "      <td>...</td>\n",
       "      <td>...</td>\n",
       "      <td>...</td>\n",
       "      <td>...</td>\n",
       "      <td>...</td>\n",
       "      <td>...</td>\n",
       "    </tr>\n",
       "    <tr>\n",
       "      <td>36752</td>\n",
       "      <td>32.1</td>\n",
       "      <td>1.000000</td>\n",
       "      <td>6.892559</td>\n",
       "      <td>140</td>\n",
       "      <td>3.632877</td>\n",
       "      <td>0</td>\n",
       "      <td>1</td>\n",
       "      <td>0</td>\n",
       "      <td>2</td>\n",
       "      <td>2.0</td>\n",
       "      <td>...</td>\n",
       "      <td>0</td>\n",
       "      <td>0</td>\n",
       "      <td>0</td>\n",
       "      <td>0</td>\n",
       "      <td>0</td>\n",
       "      <td>0</td>\n",
       "      <td>1</td>\n",
       "      <td>0</td>\n",
       "      <td>0</td>\n",
       "      <td>1</td>\n",
       "    </tr>\n",
       "    <tr>\n",
       "      <td>36753</td>\n",
       "      <td>32.1</td>\n",
       "      <td>0.353611</td>\n",
       "      <td>6.892559</td>\n",
       "      <td>140</td>\n",
       "      <td>3.632877</td>\n",
       "      <td>0</td>\n",
       "      <td>1</td>\n",
       "      <td>0</td>\n",
       "      <td>2</td>\n",
       "      <td>2.0</td>\n",
       "      <td>...</td>\n",
       "      <td>0</td>\n",
       "      <td>0</td>\n",
       "      <td>0</td>\n",
       "      <td>0</td>\n",
       "      <td>0</td>\n",
       "      <td>0</td>\n",
       "      <td>1</td>\n",
       "      <td>0</td>\n",
       "      <td>0</td>\n",
       "      <td>1</td>\n",
       "    </tr>\n",
       "    <tr>\n",
       "      <td>36754</td>\n",
       "      <td>47.8</td>\n",
       "      <td>0.286071</td>\n",
       "      <td>10.039251</td>\n",
       "      <td>62</td>\n",
       "      <td>3.484932</td>\n",
       "      <td>0</td>\n",
       "      <td>1</td>\n",
       "      <td>0</td>\n",
       "      <td>2</td>\n",
       "      <td>1.0</td>\n",
       "      <td>...</td>\n",
       "      <td>0</td>\n",
       "      <td>0</td>\n",
       "      <td>0</td>\n",
       "      <td>0</td>\n",
       "      <td>0</td>\n",
       "      <td>0</td>\n",
       "      <td>1</td>\n",
       "      <td>0</td>\n",
       "      <td>0</td>\n",
       "      <td>1</td>\n",
       "    </tr>\n",
       "    <tr>\n",
       "      <td>36755</td>\n",
       "      <td>30.5</td>\n",
       "      <td>0.426548</td>\n",
       "      <td>24.707368</td>\n",
       "      <td>269</td>\n",
       "      <td>0.238356</td>\n",
       "      <td>0</td>\n",
       "      <td>1</td>\n",
       "      <td>0</td>\n",
       "      <td>6</td>\n",
       "      <td>1.0</td>\n",
       "      <td>...</td>\n",
       "      <td>0</td>\n",
       "      <td>0</td>\n",
       "      <td>0</td>\n",
       "      <td>0</td>\n",
       "      <td>0</td>\n",
       "      <td>0</td>\n",
       "      <td>1</td>\n",
       "      <td>0</td>\n",
       "      <td>0</td>\n",
       "      <td>1</td>\n",
       "    </tr>\n",
       "    <tr>\n",
       "      <td>36756</td>\n",
       "      <td>30.5</td>\n",
       "      <td>0.521875</td>\n",
       "      <td>24.707368</td>\n",
       "      <td>269</td>\n",
       "      <td>1.095890</td>\n",
       "      <td>0</td>\n",
       "      <td>1</td>\n",
       "      <td>0</td>\n",
       "      <td>1</td>\n",
       "      <td>2.0</td>\n",
       "      <td>...</td>\n",
       "      <td>0</td>\n",
       "      <td>0</td>\n",
       "      <td>0</td>\n",
       "      <td>0</td>\n",
       "      <td>0</td>\n",
       "      <td>0</td>\n",
       "      <td>1</td>\n",
       "      <td>0</td>\n",
       "      <td>0</td>\n",
       "      <td>1</td>\n",
       "    </tr>\n",
       "  </tbody>\n",
       "</table>\n",
       "<p>36757 rows × 89 columns</p>\n",
       "</div>"
      ],
      "text/plain": [
       "       commute  sentiment  poverty_percent  restaurant_density  host_since  \\\n",
       "0         38.8   0.349518        13.598493                 163   11.000000   \n",
       "1         33.2   0.306673        31.795272                 220   10.854795   \n",
       "2         25.3   0.317464        10.749646                 204   10.843836   \n",
       "3         24.0   0.287821        12.221671                 230   10.764384   \n",
       "4         31.2   0.428167        16.020548                 194   10.835616   \n",
       "...        ...        ...              ...                 ...         ...   \n",
       "36752     32.1   1.000000         6.892559                 140    3.632877   \n",
       "36753     32.1   0.353611         6.892559                 140    3.632877   \n",
       "36754     47.8   0.286071        10.039251                  62    3.484932   \n",
       "36755     30.5   0.426548        24.707368                 269    0.238356   \n",
       "36756     30.5   0.521875        24.707368                 269    1.095890   \n",
       "\n",
       "       host_is_superhost  host_has_profile_pic  host_identity_verified  \\\n",
       "0                      0                     1                       1   \n",
       "1                      0                     1                       1   \n",
       "2                      0                     1                       0   \n",
       "3                      0                     1                       0   \n",
       "4                      0                     1                       1   \n",
       "...                  ...                   ...                     ...   \n",
       "36752                  0                     1                       0   \n",
       "36753                  0                     1                       0   \n",
       "36754                  0                     1                       0   \n",
       "36755                  0                     1                       0   \n",
       "36756                  0                     1                       0   \n",
       "\n",
       "       accommodates  bathrooms  ...  rs_chkin_6  rs_chkin_7  rs_chkin_8  \\\n",
       "0                 3        1.0  ...           0           0           0   \n",
       "1                 1        1.0  ...           0           0           0   \n",
       "2                 2        1.0  ...           0           0           0   \n",
       "3                 2        1.0  ...           0           0           0   \n",
       "4                 1        1.0  ...           0           0           0   \n",
       "...             ...        ...  ...         ...         ...         ...   \n",
       "36752             2        2.0  ...           0           0           0   \n",
       "36753             2        2.0  ...           0           0           0   \n",
       "36754             2        1.0  ...           0           0           0   \n",
       "36755             6        1.0  ...           0           0           0   \n",
       "36756             1        2.0  ...           0           0           0   \n",
       "\n",
       "       rs_comm_3  rs_comm_4  rs_comm_7  rs_comm_10  rs_loc_2  rs_loc_9  \\\n",
       "0              0          0          0           0         0         0   \n",
       "1              0          0          0           1         0         1   \n",
       "2              0          0          0           1         0         1   \n",
       "3              0          0          0           0         0         0   \n",
       "4              0          0          0           1         0         0   \n",
       "...          ...        ...        ...         ...       ...       ...   \n",
       "36752          0          0          0           1         0         0   \n",
       "36753          0          0          0           1         0         0   \n",
       "36754          0          0          0           1         0         0   \n",
       "36755          0          0          0           1         0         0   \n",
       "36756          0          0          0           1         0         0   \n",
       "\n",
       "       rs_loc_10  \n",
       "0              1  \n",
       "1              0  \n",
       "2              0  \n",
       "3              1  \n",
       "4              1  \n",
       "...          ...  \n",
       "36752          1  \n",
       "36753          1  \n",
       "36754          1  \n",
       "36755          1  \n",
       "36756          1  \n",
       "\n",
       "[36757 rows x 89 columns]"
      ]
     },
     "execution_count": 146,
     "metadata": {},
     "output_type": "execute_result"
    }
   ],
   "source": [
    "X_train_unnorm"
   ]
  },
  {
   "cell_type": "markdown",
   "metadata": {},
   "source": [
    "# Run SVR"
   ]
  },
  {
   "cell_type": "code",
   "execution_count": 147,
   "metadata": {},
   "outputs": [],
   "source": [
    "ny_data1 = X_train1.copy()"
   ]
  },
  {
   "cell_type": "code",
   "execution_count": 148,
   "metadata": {},
   "outputs": [],
   "source": [
    "#Get SF_y\n",
    "SF_y = np.log(sf_data['price'])"
   ]
  },
  {
   "cell_type": "code",
   "execution_count": 149,
   "metadata": {},
   "outputs": [
    {
     "name": "stdout",
     "output_type": "stream",
     "text": [
      "Index(['commute', 'sentiment', 'poverty_percent', 'restaurant_density',\n",
      "       'host_since', 'host_is_superhost', 'host_has_profile_pic',\n",
      "       'host_identity_verified', 'accommodates', 'bathrooms', 'bedrooms',\n",
      "       'beds', 'security_deposit', 'cleaning_fee', 'guests_included',\n",
      "       'number_of_reviews_ltm', 'review_scores_value', 'instant_bookable',\n",
      "       'require_guest_phone_verification', 'reviews_per_month', 'Aparthotel',\n",
      "       'Apartment', 'Bed and breakfast', 'Boat', 'Boutique hotel', 'Bungalow',\n",
      "       'Cabin', 'Camper/RV', 'Cave', 'Condominium', 'Guesthouse', 'Hostel',\n",
      "       'Hotel', 'House', 'Houseboat', 'Loft', 'Nature lodge', 'Other',\n",
      "       'Resort', 'Serviced apartment', 'Tent', 'Villa', 'Entire home/apt',\n",
      "       'Hotel room', 'Shared room', 'Couch', 'Futon', 'Pull-out Sofa',\n",
      "       'flexible', 'strict', 'strict_14_with_grace_period', 'super_strict_30',\n",
      "       'super_strict_60', '20-29', '30-39', '40-49', '50-59', '60-69', '85-89',\n",
      "       '95-100', 'rs_acc_0', 'rs_acc_2', 'rs_acc_3', 'rs_acc_4', 'rs_acc_5',\n",
      "       'rs_acc_8', 'rs_clean_0', 'rs_clean_2', 'rs_clean_3', 'rs_clean_4',\n",
      "       'rs_clean_5', 'rs_clean_6', 'rs_clean_7', 'rs_clean_8', 'rs_clean_10',\n",
      "       'rs_chkin_0', 'rs_chkin_2', 'rs_chkin_3', 'rs_chkin_4', 'rs_chkin_6',\n",
      "       'rs_chkin_7', 'rs_chkin_8', 'rs_comm_3', 'rs_comm_4', 'rs_comm_7',\n",
      "       'rs_comm_10', 'rs_loc_2', 'rs_loc_9', 'rs_loc_10'],\n",
      "      dtype='object')\n"
     ]
    }
   ],
   "source": [
    "print(ny_data1.columns)"
   ]
  },
  {
   "cell_type": "code",
   "execution_count": 150,
   "metadata": {},
   "outputs": [],
   "source": [
    "def get_common_columns(ny_data, sf_data):\n",
    "    common_columns = set(ny_data.columns).intersection(set(sf_data.columns))\n",
    "    # narrow down to same columns\n",
    "    ny_data_1 = pd.DataFrame()\n",
    "    sf_data_1 = pd.DataFrame()\n",
    "    for item in common_columns:\n",
    "        ny_data_1[item] = ny_data[item]\n",
    "        sf_data_1[item] = sf_data[item]\n",
    "    return ny_data_1, sf_data_1"
   ]
  },
  {
   "cell_type": "code",
   "execution_count": 151,
   "metadata": {},
   "outputs": [],
   "source": [
    "ny_data1, sf_data1 = get_common_columns(ny_data1, sf_data)"
   ]
  },
  {
   "cell_type": "code",
   "execution_count": 152,
   "metadata": {},
   "outputs": [],
   "source": [
    "X_train_unnorm, sf_data1 = get_common_columns(X_train_unnorm, sf_data1)"
   ]
  },
  {
   "cell_type": "code",
   "execution_count": 153,
   "metadata": {},
   "outputs": [
    {
     "name": "stdout",
     "output_type": "stream",
     "text": [
      "(6293, 81)\n",
      "(36757, 81)\n"
     ]
    }
   ],
   "source": [
    "print(sf_data1.shape)\n",
    "print(ny_data1.shape)"
   ]
  },
  {
   "cell_type": "code",
   "execution_count": 154,
   "metadata": {},
   "outputs": [
    {
     "name": "stdout",
     "output_type": "stream",
     "text": [
      "(36757, 81)\n"
     ]
    }
   ],
   "source": [
    "print(X_train_unnorm.shape)"
   ]
  },
  {
   "cell_type": "code",
   "execution_count": 6,
   "metadata": {},
   "outputs": [
    {
     "data": {
      "image/png": "[encoded data removed]",
      "text/plain": [
       "<Figure size 432x288 with 1 Axes>"
      ]
     },
     "metadata": {
      "needs_background": "light"
     },
     "output_type": "display_data"
    }
   ],
   "source": [
    "#plot price distribution\n",
    "price = ny_data['price']\n",
    "ranges = (0,500)\n",
    "plt.hist(price, bins = 10, range = ranges)\n",
    "plt.show()\n",
    "\n",
    "#log of price"
   ]
  },
  {
   "cell_type": "code",
   "execution_count": null,
   "metadata": {},
   "outputs": [],
   "source": [
    "#X_train.skew(axis = 0) #skew of price = 24"
   ]
  },
  {
   "cell_type": "code",
   "execution_count": 52,
   "metadata": {},
   "outputs": [],
   "source": [
    "#drop id\n",
    "#ny_data1 = ny_data.drop('id', axis = 1)\n",
    "# ny_data1.drop('id', axis = 1, inplace = True)"
   ]
  },
  {
   "cell_type": "code",
   "execution_count": 155,
   "metadata": {},
   "outputs": [
    {
     "name": "stdout",
     "output_type": "stream",
     "text": [
      "Index(['20-29', 'rs_clean_7', 'Hotel', 'rs_loc_10', 'rs_chkin_6', 'Loft',\n",
      "       'Villa', 'rs_acc_3', 'Boutique hotel', 'rs_comm_4', '85-89',\n",
      "       'rs_clean_5', 'Hotel room', 'accommodates', 'bedrooms', 'rs_acc_5',\n",
      "       'rs_comm_10', 'host_has_profile_pic', 'rs_clean_2', 'host_since',\n",
      "       '50-59', 'rs_chkin_2', 'Bed and breakfast', 'rs_clean_8', 'rs_chkin_4',\n",
      "       'House', 'Hostel', 'Shared room', 'rs_clean_0', '30-39', 'Guesthouse',\n",
      "       'rs_chkin_7', 'host_identity_verified', 'Entire home/apt', 'rs_clean_4',\n",
      "       '60-69', 'rs_clean_10', 'rs_loc_9', 'rs_loc_2', 'super_strict_60',\n",
      "       'security_deposit', 'instant_bookable', 'Couch',\n",
      "       'require_guest_phone_verification', 'rs_chkin_0', 'Condominium',\n",
      "       'Serviced apartment', 'Resort', 'strict', 'Apartment', '40-49',\n",
      "       'strict_14_with_grace_period', 'Other', 'host_is_superhost',\n",
      "       'Aparthotel', 'beds', 'review_scores_value', 'rs_acc_4', 'rs_acc_8',\n",
      "       '95-100', 'poverty_percent', 'rs_acc_0', 'Bungalow', 'Cabin',\n",
      "       'rs_acc_2', 'cleaning_fee', 'flexible', 'super_strict_30',\n",
      "       'number_of_reviews_ltm', 'restaurant_density', 'rs_clean_6',\n",
      "       'bathrooms', 'sentiment', 'Futon', 'Pull-out Sofa', 'rs_comm_7',\n",
      "       'rs_chkin_8', 'rs_clean_3', 'guests_included', 'commute',\n",
      "       'reviews_per_month'],\n",
      "      dtype='object')\n"
     ]
    }
   ],
   "source": [
    "print(sf_data1.columns)"
   ]
  },
  {
   "cell_type": "code",
   "execution_count": 156,
   "metadata": {},
   "outputs": [],
   "source": [
    "# Get SF Data\n",
    "# SF_y = np.log(sf_data1['price'])\n",
    "# SF_X = sf_data1.drop('price', axis = 1)\n",
    "SF_X = sf_data1.copy()"
   ]
  },
  {
   "cell_type": "code",
   "execution_count": 157,
   "metadata": {},
   "outputs": [
    {
     "data": {
      "text/html": [
       "<div>\n",
       "<style scoped>\n",
       "    .dataframe tbody tr th:only-of-type {\n",
       "        vertical-align: middle;\n",
       "    }\n",
       "\n",
       "    .dataframe tbody tr th {\n",
       "        vertical-align: top;\n",
       "    }\n",
       "\n",
       "    .dataframe thead th {\n",
       "        text-align: right;\n",
       "    }\n",
       "</style>\n",
       "<table border=\"1\" class=\"dataframe\">\n",
       "  <thead>\n",
       "    <tr style=\"text-align: right;\">\n",
       "      <th></th>\n",
       "      <th>20-29</th>\n",
       "      <th>rs_clean_7</th>\n",
       "      <th>Hotel</th>\n",
       "      <th>rs_loc_10</th>\n",
       "      <th>rs_chkin_6</th>\n",
       "      <th>Loft</th>\n",
       "      <th>Villa</th>\n",
       "      <th>rs_acc_3</th>\n",
       "      <th>Boutique hotel</th>\n",
       "      <th>rs_comm_4</th>\n",
       "      <th>...</th>\n",
       "      <th>bathrooms</th>\n",
       "      <th>sentiment</th>\n",
       "      <th>Futon</th>\n",
       "      <th>Pull-out Sofa</th>\n",
       "      <th>rs_comm_7</th>\n",
       "      <th>rs_chkin_8</th>\n",
       "      <th>rs_clean_3</th>\n",
       "      <th>guests_included</th>\n",
       "      <th>commute</th>\n",
       "      <th>reviews_per_month</th>\n",
       "    </tr>\n",
       "  </thead>\n",
       "  <tbody>\n",
       "    <tr>\n",
       "      <td>0</td>\n",
       "      <td>0</td>\n",
       "      <td>0</td>\n",
       "      <td>0</td>\n",
       "      <td>1</td>\n",
       "      <td>0</td>\n",
       "      <td>0</td>\n",
       "      <td>0</td>\n",
       "      <td>0</td>\n",
       "      <td>0</td>\n",
       "      <td>0</td>\n",
       "      <td>...</td>\n",
       "      <td>2.0</td>\n",
       "      <td>0.409691</td>\n",
       "      <td>0</td>\n",
       "      <td>0</td>\n",
       "      <td>0</td>\n",
       "      <td>0</td>\n",
       "      <td>0</td>\n",
       "      <td>4</td>\n",
       "      <td>22.6</td>\n",
       "      <td>0</td>\n",
       "    </tr>\n",
       "    <tr>\n",
       "      <td>1</td>\n",
       "      <td>0</td>\n",
       "      <td>0</td>\n",
       "      <td>0</td>\n",
       "      <td>1</td>\n",
       "      <td>0</td>\n",
       "      <td>1</td>\n",
       "      <td>0</td>\n",
       "      <td>0</td>\n",
       "      <td>0</td>\n",
       "      <td>0</td>\n",
       "      <td>...</td>\n",
       "      <td>1.5</td>\n",
       "      <td>0.476327</td>\n",
       "      <td>0</td>\n",
       "      <td>0</td>\n",
       "      <td>0</td>\n",
       "      <td>0</td>\n",
       "      <td>0</td>\n",
       "      <td>2</td>\n",
       "      <td>22.6</td>\n",
       "      <td>0</td>\n",
       "    </tr>\n",
       "    <tr>\n",
       "      <td>2</td>\n",
       "      <td>0</td>\n",
       "      <td>0</td>\n",
       "      <td>0</td>\n",
       "      <td>1</td>\n",
       "      <td>0</td>\n",
       "      <td>0</td>\n",
       "      <td>0</td>\n",
       "      <td>0</td>\n",
       "      <td>0</td>\n",
       "      <td>0</td>\n",
       "      <td>...</td>\n",
       "      <td>2.0</td>\n",
       "      <td>0.433179</td>\n",
       "      <td>0</td>\n",
       "      <td>0</td>\n",
       "      <td>0</td>\n",
       "      <td>0</td>\n",
       "      <td>0</td>\n",
       "      <td>3</td>\n",
       "      <td>22.6</td>\n",
       "      <td>0</td>\n",
       "    </tr>\n",
       "    <tr>\n",
       "      <td>3</td>\n",
       "      <td>0</td>\n",
       "      <td>0</td>\n",
       "      <td>0</td>\n",
       "      <td>1</td>\n",
       "      <td>0</td>\n",
       "      <td>0</td>\n",
       "      <td>0</td>\n",
       "      <td>0</td>\n",
       "      <td>0</td>\n",
       "      <td>0</td>\n",
       "      <td>...</td>\n",
       "      <td>1.0</td>\n",
       "      <td>0.387500</td>\n",
       "      <td>0</td>\n",
       "      <td>0</td>\n",
       "      <td>0</td>\n",
       "      <td>0</td>\n",
       "      <td>0</td>\n",
       "      <td>1</td>\n",
       "      <td>22.6</td>\n",
       "      <td>0</td>\n",
       "    </tr>\n",
       "    <tr>\n",
       "      <td>4</td>\n",
       "      <td>0</td>\n",
       "      <td>0</td>\n",
       "      <td>0</td>\n",
       "      <td>1</td>\n",
       "      <td>0</td>\n",
       "      <td>1</td>\n",
       "      <td>0</td>\n",
       "      <td>0</td>\n",
       "      <td>0</td>\n",
       "      <td>0</td>\n",
       "      <td>...</td>\n",
       "      <td>1.5</td>\n",
       "      <td>0.447659</td>\n",
       "      <td>0</td>\n",
       "      <td>0</td>\n",
       "      <td>0</td>\n",
       "      <td>0</td>\n",
       "      <td>0</td>\n",
       "      <td>1</td>\n",
       "      <td>22.6</td>\n",
       "      <td>3</td>\n",
       "    </tr>\n",
       "    <tr>\n",
       "      <td>...</td>\n",
       "      <td>...</td>\n",
       "      <td>...</td>\n",
       "      <td>...</td>\n",
       "      <td>...</td>\n",
       "      <td>...</td>\n",
       "      <td>...</td>\n",
       "      <td>...</td>\n",
       "      <td>...</td>\n",
       "      <td>...</td>\n",
       "      <td>...</td>\n",
       "      <td>...</td>\n",
       "      <td>...</td>\n",
       "      <td>...</td>\n",
       "      <td>...</td>\n",
       "      <td>...</td>\n",
       "      <td>...</td>\n",
       "      <td>...</td>\n",
       "      <td>...</td>\n",
       "      <td>...</td>\n",
       "      <td>...</td>\n",
       "      <td>...</td>\n",
       "    </tr>\n",
       "    <tr>\n",
       "      <td>6288</td>\n",
       "      <td>0</td>\n",
       "      <td>0</td>\n",
       "      <td>0</td>\n",
       "      <td>1</td>\n",
       "      <td>0</td>\n",
       "      <td>0</td>\n",
       "      <td>0</td>\n",
       "      <td>0</td>\n",
       "      <td>0</td>\n",
       "      <td>0</td>\n",
       "      <td>...</td>\n",
       "      <td>1.0</td>\n",
       "      <td>0.393750</td>\n",
       "      <td>0</td>\n",
       "      <td>0</td>\n",
       "      <td>0</td>\n",
       "      <td>0</td>\n",
       "      <td>0</td>\n",
       "      <td>4</td>\n",
       "      <td>32.9</td>\n",
       "      <td>1</td>\n",
       "    </tr>\n",
       "    <tr>\n",
       "      <td>6289</td>\n",
       "      <td>0</td>\n",
       "      <td>0</td>\n",
       "      <td>0</td>\n",
       "      <td>1</td>\n",
       "      <td>0</td>\n",
       "      <td>0</td>\n",
       "      <td>0</td>\n",
       "      <td>0</td>\n",
       "      <td>0</td>\n",
       "      <td>0</td>\n",
       "      <td>...</td>\n",
       "      <td>1.0</td>\n",
       "      <td>0.542833</td>\n",
       "      <td>0</td>\n",
       "      <td>0</td>\n",
       "      <td>0</td>\n",
       "      <td>0</td>\n",
       "      <td>0</td>\n",
       "      <td>2</td>\n",
       "      <td>32.9</td>\n",
       "      <td>1</td>\n",
       "    </tr>\n",
       "    <tr>\n",
       "      <td>6290</td>\n",
       "      <td>0</td>\n",
       "      <td>0</td>\n",
       "      <td>0</td>\n",
       "      <td>1</td>\n",
       "      <td>0</td>\n",
       "      <td>0</td>\n",
       "      <td>0</td>\n",
       "      <td>0</td>\n",
       "      <td>0</td>\n",
       "      <td>0</td>\n",
       "      <td>...</td>\n",
       "      <td>1.0</td>\n",
       "      <td>0.800000</td>\n",
       "      <td>0</td>\n",
       "      <td>0</td>\n",
       "      <td>0</td>\n",
       "      <td>0</td>\n",
       "      <td>0</td>\n",
       "      <td>2</td>\n",
       "      <td>32.9</td>\n",
       "      <td>2</td>\n",
       "    </tr>\n",
       "    <tr>\n",
       "      <td>6291</td>\n",
       "      <td>0</td>\n",
       "      <td>0</td>\n",
       "      <td>0</td>\n",
       "      <td>1</td>\n",
       "      <td>0</td>\n",
       "      <td>0</td>\n",
       "      <td>0</td>\n",
       "      <td>0</td>\n",
       "      <td>0</td>\n",
       "      <td>0</td>\n",
       "      <td>...</td>\n",
       "      <td>1.0</td>\n",
       "      <td>0.415000</td>\n",
       "      <td>0</td>\n",
       "      <td>0</td>\n",
       "      <td>0</td>\n",
       "      <td>0</td>\n",
       "      <td>0</td>\n",
       "      <td>2</td>\n",
       "      <td>32.9</td>\n",
       "      <td>1</td>\n",
       "    </tr>\n",
       "    <tr>\n",
       "      <td>6292</td>\n",
       "      <td>0</td>\n",
       "      <td>0</td>\n",
       "      <td>0</td>\n",
       "      <td>1</td>\n",
       "      <td>0</td>\n",
       "      <td>0</td>\n",
       "      <td>0</td>\n",
       "      <td>0</td>\n",
       "      <td>0</td>\n",
       "      <td>0</td>\n",
       "      <td>...</td>\n",
       "      <td>1.0</td>\n",
       "      <td>0.528696</td>\n",
       "      <td>0</td>\n",
       "      <td>0</td>\n",
       "      <td>0</td>\n",
       "      <td>0</td>\n",
       "      <td>0</td>\n",
       "      <td>1</td>\n",
       "      <td>32.9</td>\n",
       "      <td>3</td>\n",
       "    </tr>\n",
       "  </tbody>\n",
       "</table>\n",
       "<p>6293 rows × 81 columns</p>\n",
       "</div>"
      ],
      "text/plain": [
       "      20-29  rs_clean_7  Hotel  rs_loc_10  rs_chkin_6  Loft  Villa  rs_acc_3  \\\n",
       "0         0           0      0          1           0     0      0         0   \n",
       "1         0           0      0          1           0     1      0         0   \n",
       "2         0           0      0          1           0     0      0         0   \n",
       "3         0           0      0          1           0     0      0         0   \n",
       "4         0           0      0          1           0     1      0         0   \n",
       "...     ...         ...    ...        ...         ...   ...    ...       ...   \n",
       "6288      0           0      0          1           0     0      0         0   \n",
       "6289      0           0      0          1           0     0      0         0   \n",
       "6290      0           0      0          1           0     0      0         0   \n",
       "6291      0           0      0          1           0     0      0         0   \n",
       "6292      0           0      0          1           0     0      0         0   \n",
       "\n",
       "      Boutique hotel  rs_comm_4  ...  bathrooms  sentiment  Futon  \\\n",
       "0                  0          0  ...        2.0   0.409691      0   \n",
       "1                  0          0  ...        1.5   0.476327      0   \n",
       "2                  0          0  ...        2.0   0.433179      0   \n",
       "3                  0          0  ...        1.0   0.387500      0   \n",
       "4                  0          0  ...        1.5   0.447659      0   \n",
       "...              ...        ...  ...        ...        ...    ...   \n",
       "6288               0          0  ...        1.0   0.393750      0   \n",
       "6289               0          0  ...        1.0   0.542833      0   \n",
       "6290               0          0  ...        1.0   0.800000      0   \n",
       "6291               0          0  ...        1.0   0.415000      0   \n",
       "6292               0          0  ...        1.0   0.528696      0   \n",
       "\n",
       "      Pull-out Sofa  rs_comm_7  rs_chkin_8  rs_clean_3  guests_included  \\\n",
       "0                 0          0           0           0                4   \n",
       "1                 0          0           0           0                2   \n",
       "2                 0          0           0           0                3   \n",
       "3                 0          0           0           0                1   \n",
       "4                 0          0           0           0                1   \n",
       "...             ...        ...         ...         ...              ...   \n",
       "6288              0          0           0           0                4   \n",
       "6289              0          0           0           0                2   \n",
       "6290              0          0           0           0                2   \n",
       "6291              0          0           0           0                2   \n",
       "6292              0          0           0           0                1   \n",
       "\n",
       "      commute  reviews_per_month  \n",
       "0        22.6                  0  \n",
       "1        22.6                  0  \n",
       "2        22.6                  0  \n",
       "3        22.6                  0  \n",
       "4        22.6                  3  \n",
       "...       ...                ...  \n",
       "6288     32.9                  1  \n",
       "6289     32.9                  1  \n",
       "6290     32.9                  2  \n",
       "6291     32.9                  1  \n",
       "6292     32.9                  3  \n",
       "\n",
       "[6293 rows x 81 columns]"
      ]
     },
     "execution_count": 157,
     "metadata": {},
     "output_type": "execute_result"
    }
   ],
   "source": [
    "SF_X"
   ]
  },
  {
   "cell_type": "code",
   "execution_count": 55,
   "metadata": {},
   "outputs": [],
   "source": [
    "# # NY Data\n",
    "# X_train = ny_data1.copy()"
   ]
  },
  {
   "cell_type": "code",
   "execution_count": 146,
   "metadata": {},
   "outputs": [],
   "source": [
    "#Get Y. Log transformation.\n",
    "# y_train = np.log(X_train['price'])\n",
    "# y_valid = np.log(X_valid['price'])\n",
    "# y_test = np.log(X_test['price'])\n",
    "\n",
    "# y_train = X_train['price']\n",
    "# y_valid = X_valid['price']\n",
    "# y_test = X_test['price']"
   ]
  },
  {
   "cell_type": "code",
   "execution_count": 147,
   "metadata": {},
   "outputs": [
    {
     "name": "stderr",
     "output_type": "stream",
     "text": [
      "C:\\Users\\teoal\\Anaconda3\\lib\\site-packages\\pandas\\core\\frame.py:4102: SettingWithCopyWarning: \n",
      "A value is trying to be set on a copy of a slice from a DataFrame\n",
      "\n",
      "See the caveats in the documentation: http://pandas.pydata.org/pandas-docs/stable/user_guide/indexing.html#returning-a-view-versus-a-copy\n",
      "  errors=errors,\n"
     ]
    }
   ],
   "source": [
    "# X_train.drop('price', axis = 1, inplace = True)\n",
    "# X_valid.drop('price', axis = 1, inplace = True)\n",
    "# X_test.drop('price', axis = 1, inplace = True)\n",
    "# ny_data1.drop('price', axis = 1, inplace = True)"
   ]
  },
  {
   "cell_type": "code",
   "execution_count": 33,
   "metadata": {},
   "outputs": [],
   "source": [
    "# #normalize data\n",
    "# X_train, X_valid, X_test = normalization_train_and_vali(X_train, X_valid, X_test)"
   ]
  },
  {
   "cell_type": "code",
   "execution_count": 74,
   "metadata": {
    "scrolled": true
   },
   "outputs": [
    {
     "data": {
      "text/html": [
       "<div>\n",
       "<style scoped>\n",
       "    .dataframe tbody tr th:only-of-type {\n",
       "        vertical-align: middle;\n",
       "    }\n",
       "\n",
       "    .dataframe tbody tr th {\n",
       "        vertical-align: top;\n",
       "    }\n",
       "\n",
       "    .dataframe thead th {\n",
       "        text-align: right;\n",
       "    }\n",
       "</style>\n",
       "<table border=\"1\" class=\"dataframe\">\n",
       "  <thead>\n",
       "    <tr style=\"text-align: right;\">\n",
       "      <th></th>\n",
       "      <th>20-29</th>\n",
       "      <th>rs_clean_7</th>\n",
       "      <th>Hotel</th>\n",
       "      <th>rs_loc_10</th>\n",
       "      <th>rs_chkin_6</th>\n",
       "      <th>Loft</th>\n",
       "      <th>Villa</th>\n",
       "      <th>rs_acc_3</th>\n",
       "      <th>Boutique hotel</th>\n",
       "      <th>rs_comm_4</th>\n",
       "      <th>...</th>\n",
       "      <th>bathrooms</th>\n",
       "      <th>sentiment</th>\n",
       "      <th>Futon</th>\n",
       "      <th>Pull-out Sofa</th>\n",
       "      <th>rs_comm_7</th>\n",
       "      <th>rs_chkin_8</th>\n",
       "      <th>rs_clean_3</th>\n",
       "      <th>guests_included</th>\n",
       "      <th>commute</th>\n",
       "      <th>reviews_per_month</th>\n",
       "    </tr>\n",
       "  </thead>\n",
       "  <tbody>\n",
       "    <tr>\n",
       "      <td>0</td>\n",
       "      <td>-0.050092</td>\n",
       "      <td>-0.157434</td>\n",
       "      <td>-0.05818</td>\n",
       "      <td>0.717028</td>\n",
       "      <td>-0.077241</td>\n",
       "      <td>-0.171145</td>\n",
       "      <td>-0.026605</td>\n",
       "      <td>-0.007377</td>\n",
       "      <td>-0.057944</td>\n",
       "      <td>-0.038</td>\n",
       "      <td>...</td>\n",
       "      <td>-0.330435</td>\n",
       "      <td>-0.244904</td>\n",
       "      <td>-0.079698</td>\n",
       "      <td>-0.074706</td>\n",
       "      <td>-0.07303</td>\n",
       "      <td>-0.166198</td>\n",
       "      <td>-0.014754</td>\n",
       "      <td>-0.490473</td>\n",
       "      <td>0.487159</td>\n",
       "      <td>1.857299</td>\n",
       "    </tr>\n",
       "    <tr>\n",
       "      <td>1</td>\n",
       "      <td>-0.050092</td>\n",
       "      <td>-0.157434</td>\n",
       "      <td>-0.05818</td>\n",
       "      <td>-1.394646</td>\n",
       "      <td>-0.077241</td>\n",
       "      <td>-0.171145</td>\n",
       "      <td>-0.026605</td>\n",
       "      <td>-0.007377</td>\n",
       "      <td>-0.057944</td>\n",
       "      <td>-0.038</td>\n",
       "      <td>...</td>\n",
       "      <td>-0.330435</td>\n",
       "      <td>-0.592295</td>\n",
       "      <td>-0.079698</td>\n",
       "      <td>-0.074706</td>\n",
       "      <td>-0.07303</td>\n",
       "      <td>-0.166198</td>\n",
       "      <td>-0.014754</td>\n",
       "      <td>-0.490473</td>\n",
       "      <td>-0.302314</td>\n",
       "      <td>-0.765893</td>\n",
       "    </tr>\n",
       "    <tr>\n",
       "      <td>2</td>\n",
       "      <td>-0.050092</td>\n",
       "      <td>-0.157434</td>\n",
       "      <td>-0.05818</td>\n",
       "      <td>-1.394646</td>\n",
       "      <td>-0.077241</td>\n",
       "      <td>-0.171145</td>\n",
       "      <td>-0.026605</td>\n",
       "      <td>-0.007377</td>\n",
       "      <td>-0.057944</td>\n",
       "      <td>-0.038</td>\n",
       "      <td>...</td>\n",
       "      <td>-0.330435</td>\n",
       "      <td>-0.504795</td>\n",
       "      <td>-0.079698</td>\n",
       "      <td>-0.074706</td>\n",
       "      <td>-0.07303</td>\n",
       "      <td>-0.166198</td>\n",
       "      <td>-0.014754</td>\n",
       "      <td>0.335189</td>\n",
       "      <td>-1.416035</td>\n",
       "      <td>-0.481521</td>\n",
       "    </tr>\n",
       "    <tr>\n",
       "      <td>3</td>\n",
       "      <td>-0.050092</td>\n",
       "      <td>6.351886</td>\n",
       "      <td>-0.05818</td>\n",
       "      <td>0.717028</td>\n",
       "      <td>-0.077241</td>\n",
       "      <td>-0.171145</td>\n",
       "      <td>-0.026605</td>\n",
       "      <td>-0.007377</td>\n",
       "      <td>-0.057944</td>\n",
       "      <td>-0.038</td>\n",
       "      <td>...</td>\n",
       "      <td>-0.330435</td>\n",
       "      <td>-0.745145</td>\n",
       "      <td>-0.079698</td>\n",
       "      <td>-0.074706</td>\n",
       "      <td>-0.07303</td>\n",
       "      <td>-0.166198</td>\n",
       "      <td>-0.014754</td>\n",
       "      <td>-0.490473</td>\n",
       "      <td>-1.599305</td>\n",
       "      <td>1.213108</td>\n",
       "    </tr>\n",
       "    <tr>\n",
       "      <td>4</td>\n",
       "      <td>-0.050092</td>\n",
       "      <td>-0.157434</td>\n",
       "      <td>-0.05818</td>\n",
       "      <td>0.717028</td>\n",
       "      <td>-0.077241</td>\n",
       "      <td>-0.171145</td>\n",
       "      <td>-0.026605</td>\n",
       "      <td>-0.007377</td>\n",
       "      <td>-0.057944</td>\n",
       "      <td>-0.038</td>\n",
       "      <td>...</td>\n",
       "      <td>-0.330435</td>\n",
       "      <td>0.392781</td>\n",
       "      <td>-0.079698</td>\n",
       "      <td>-0.074706</td>\n",
       "      <td>-0.07303</td>\n",
       "      <td>-0.166198</td>\n",
       "      <td>-0.014754</td>\n",
       "      <td>-0.490473</td>\n",
       "      <td>-0.584269</td>\n",
       "      <td>-0.260987</td>\n",
       "    </tr>\n",
       "  </tbody>\n",
       "</table>\n",
       "<p>5 rows × 81 columns</p>\n",
       "</div>"
      ],
      "text/plain": [
       "      20-29  rs_clean_7    Hotel  rs_loc_10  rs_chkin_6      Loft     Villa  \\\n",
       "0 -0.050092   -0.157434 -0.05818   0.717028   -0.077241 -0.171145 -0.026605   \n",
       "1 -0.050092   -0.157434 -0.05818  -1.394646   -0.077241 -0.171145 -0.026605   \n",
       "2 -0.050092   -0.157434 -0.05818  -1.394646   -0.077241 -0.171145 -0.026605   \n",
       "3 -0.050092    6.351886 -0.05818   0.717028   -0.077241 -0.171145 -0.026605   \n",
       "4 -0.050092   -0.157434 -0.05818   0.717028   -0.077241 -0.171145 -0.026605   \n",
       "\n",
       "   rs_acc_3  Boutique hotel  rs_comm_4  ...  bathrooms  sentiment     Futon  \\\n",
       "0 -0.007377       -0.057944     -0.038  ...  -0.330435  -0.244904 -0.079698   \n",
       "1 -0.007377       -0.057944     -0.038  ...  -0.330435  -0.592295 -0.079698   \n",
       "2 -0.007377       -0.057944     -0.038  ...  -0.330435  -0.504795 -0.079698   \n",
       "3 -0.007377       -0.057944     -0.038  ...  -0.330435  -0.745145 -0.079698   \n",
       "4 -0.007377       -0.057944     -0.038  ...  -0.330435   0.392781 -0.079698   \n",
       "\n",
       "   Pull-out Sofa  rs_comm_7  rs_chkin_8  rs_clean_3  guests_included  \\\n",
       "0      -0.074706   -0.07303   -0.166198   -0.014754        -0.490473   \n",
       "1      -0.074706   -0.07303   -0.166198   -0.014754        -0.490473   \n",
       "2      -0.074706   -0.07303   -0.166198   -0.014754         0.335189   \n",
       "3      -0.074706   -0.07303   -0.166198   -0.014754        -0.490473   \n",
       "4      -0.074706   -0.07303   -0.166198   -0.014754        -0.490473   \n",
       "\n",
       "    commute  reviews_per_month  \n",
       "0  0.487159           1.857299  \n",
       "1 -0.302314          -0.765893  \n",
       "2 -1.416035          -0.481521  \n",
       "3 -1.599305           1.213108  \n",
       "4 -0.584269          -0.260987  \n",
       "\n",
       "[5 rows x 81 columns]"
      ]
     },
     "execution_count": 74,
     "metadata": {},
     "output_type": "execute_result"
    }
   ],
   "source": [
    "ny_data1.head()"
   ]
  },
  {
   "cell_type": "code",
   "execution_count": 62,
   "metadata": {},
   "outputs": [],
   "source": []
  },
  {
   "cell_type": "code",
   "execution_count": 158,
   "metadata": {},
   "outputs": [],
   "source": [
    "#normalize SF data\n",
    "SF_X = normalize_sf(X_train_unnorm, SF_X)"
   ]
  },
  {
   "cell_type": "code",
   "execution_count": 159,
   "metadata": {},
   "outputs": [
    {
     "data": {
      "text/html": [
       "<div>\n",
       "<style scoped>\n",
       "    .dataframe tbody tr th:only-of-type {\n",
       "        vertical-align: middle;\n",
       "    }\n",
       "\n",
       "    .dataframe tbody tr th {\n",
       "        vertical-align: top;\n",
       "    }\n",
       "\n",
       "    .dataframe thead th {\n",
       "        text-align: right;\n",
       "    }\n",
       "</style>\n",
       "<table border=\"1\" class=\"dataframe\">\n",
       "  <thead>\n",
       "    <tr style=\"text-align: right;\">\n",
       "      <th></th>\n",
       "      <th>20-29</th>\n",
       "      <th>rs_clean_7</th>\n",
       "      <th>Hotel</th>\n",
       "      <th>rs_loc_10</th>\n",
       "      <th>rs_chkin_6</th>\n",
       "      <th>Loft</th>\n",
       "      <th>Villa</th>\n",
       "      <th>rs_acc_3</th>\n",
       "      <th>Boutique hotel</th>\n",
       "      <th>rs_comm_4</th>\n",
       "      <th>...</th>\n",
       "      <th>bathrooms</th>\n",
       "      <th>sentiment</th>\n",
       "      <th>Futon</th>\n",
       "      <th>Pull-out Sofa</th>\n",
       "      <th>rs_comm_7</th>\n",
       "      <th>rs_chkin_8</th>\n",
       "      <th>rs_clean_3</th>\n",
       "      <th>guests_included</th>\n",
       "      <th>commute</th>\n",
       "      <th>reviews_per_month</th>\n",
       "    </tr>\n",
       "  </thead>\n",
       "  <tbody>\n",
       "    <tr>\n",
       "      <td>0</td>\n",
       "      <td>-0.050092</td>\n",
       "      <td>-0.157434</td>\n",
       "      <td>-0.05818</td>\n",
       "      <td>0.717028</td>\n",
       "      <td>-0.077241</td>\n",
       "      <td>-0.171145</td>\n",
       "      <td>-0.026605</td>\n",
       "      <td>-0.007377</td>\n",
       "      <td>-0.057944</td>\n",
       "      <td>-0.038</td>\n",
       "      <td>...</td>\n",
       "      <td>2.060704</td>\n",
       "      <td>0.242975</td>\n",
       "      <td>-0.079698</td>\n",
       "      <td>-0.074706</td>\n",
       "      <td>-0.07303</td>\n",
       "      <td>-0.166198</td>\n",
       "      <td>-0.014754</td>\n",
       "      <td>1.986513</td>\n",
       "      <td>-1.796673</td>\n",
       "      <td>-0.823928</td>\n",
       "    </tr>\n",
       "    <tr>\n",
       "      <td>1</td>\n",
       "      <td>-0.050092</td>\n",
       "      <td>-0.157434</td>\n",
       "      <td>-0.05818</td>\n",
       "      <td>0.717028</td>\n",
       "      <td>-0.077241</td>\n",
       "      <td>5.842990</td>\n",
       "      <td>-0.026605</td>\n",
       "      <td>-0.007377</td>\n",
       "      <td>-0.057944</td>\n",
       "      <td>-0.038</td>\n",
       "      <td>...</td>\n",
       "      <td>0.865135</td>\n",
       "      <td>0.783264</td>\n",
       "      <td>-0.079698</td>\n",
       "      <td>-0.074706</td>\n",
       "      <td>-0.07303</td>\n",
       "      <td>-0.166198</td>\n",
       "      <td>-0.014754</td>\n",
       "      <td>0.335189</td>\n",
       "      <td>-1.796673</td>\n",
       "      <td>-0.823928</td>\n",
       "    </tr>\n",
       "    <tr>\n",
       "      <td>2</td>\n",
       "      <td>-0.050092</td>\n",
       "      <td>-0.157434</td>\n",
       "      <td>-0.05818</td>\n",
       "      <td>0.717028</td>\n",
       "      <td>-0.077241</td>\n",
       "      <td>-0.171145</td>\n",
       "      <td>-0.026605</td>\n",
       "      <td>-0.007377</td>\n",
       "      <td>-0.057944</td>\n",
       "      <td>-0.038</td>\n",
       "      <td>...</td>\n",
       "      <td>2.060704</td>\n",
       "      <td>0.433414</td>\n",
       "      <td>-0.079698</td>\n",
       "      <td>-0.074706</td>\n",
       "      <td>-0.07303</td>\n",
       "      <td>-0.166198</td>\n",
       "      <td>-0.014754</td>\n",
       "      <td>1.160851</td>\n",
       "      <td>-1.796673</td>\n",
       "      <td>-0.823928</td>\n",
       "    </tr>\n",
       "    <tr>\n",
       "      <td>3</td>\n",
       "      <td>-0.050092</td>\n",
       "      <td>-0.157434</td>\n",
       "      <td>-0.05818</td>\n",
       "      <td>0.717028</td>\n",
       "      <td>-0.077241</td>\n",
       "      <td>-0.171145</td>\n",
       "      <td>-0.026605</td>\n",
       "      <td>-0.007377</td>\n",
       "      <td>-0.057944</td>\n",
       "      <td>-0.038</td>\n",
       "      <td>...</td>\n",
       "      <td>-0.330435</td>\n",
       "      <td>0.063053</td>\n",
       "      <td>-0.079698</td>\n",
       "      <td>-0.074706</td>\n",
       "      <td>-0.07303</td>\n",
       "      <td>-0.166198</td>\n",
       "      <td>-0.014754</td>\n",
       "      <td>-0.490473</td>\n",
       "      <td>-1.796673</td>\n",
       "      <td>-0.823928</td>\n",
       "    </tr>\n",
       "    <tr>\n",
       "      <td>4</td>\n",
       "      <td>-0.050092</td>\n",
       "      <td>-0.157434</td>\n",
       "      <td>-0.05818</td>\n",
       "      <td>0.717028</td>\n",
       "      <td>-0.077241</td>\n",
       "      <td>5.842990</td>\n",
       "      <td>-0.026605</td>\n",
       "      <td>-0.007377</td>\n",
       "      <td>-0.057944</td>\n",
       "      <td>-0.038</td>\n",
       "      <td>...</td>\n",
       "      <td>0.865135</td>\n",
       "      <td>0.550821</td>\n",
       "      <td>-0.079698</td>\n",
       "      <td>-0.074706</td>\n",
       "      <td>-0.07303</td>\n",
       "      <td>-0.166198</td>\n",
       "      <td>-0.014754</td>\n",
       "      <td>-0.490473</td>\n",
       "      <td>-1.796673</td>\n",
       "      <td>0.917128</td>\n",
       "    </tr>\n",
       "  </tbody>\n",
       "</table>\n",
       "<p>5 rows × 81 columns</p>\n",
       "</div>"
      ],
      "text/plain": [
       "      20-29  rs_clean_7    Hotel  rs_loc_10  rs_chkin_6      Loft     Villa  \\\n",
       "0 -0.050092   -0.157434 -0.05818   0.717028   -0.077241 -0.171145 -0.026605   \n",
       "1 -0.050092   -0.157434 -0.05818   0.717028   -0.077241  5.842990 -0.026605   \n",
       "2 -0.050092   -0.157434 -0.05818   0.717028   -0.077241 -0.171145 -0.026605   \n",
       "3 -0.050092   -0.157434 -0.05818   0.717028   -0.077241 -0.171145 -0.026605   \n",
       "4 -0.050092   -0.157434 -0.05818   0.717028   -0.077241  5.842990 -0.026605   \n",
       "\n",
       "   rs_acc_3  Boutique hotel  rs_comm_4  ...  bathrooms  sentiment     Futon  \\\n",
       "0 -0.007377       -0.057944     -0.038  ...   2.060704   0.242975 -0.079698   \n",
       "1 -0.007377       -0.057944     -0.038  ...   0.865135   0.783264 -0.079698   \n",
       "2 -0.007377       -0.057944     -0.038  ...   2.060704   0.433414 -0.079698   \n",
       "3 -0.007377       -0.057944     -0.038  ...  -0.330435   0.063053 -0.079698   \n",
       "4 -0.007377       -0.057944     -0.038  ...   0.865135   0.550821 -0.079698   \n",
       "\n",
       "   Pull-out Sofa  rs_comm_7  rs_chkin_8  rs_clean_3  guests_included  \\\n",
       "0      -0.074706   -0.07303   -0.166198   -0.014754         1.986513   \n",
       "1      -0.074706   -0.07303   -0.166198   -0.014754         0.335189   \n",
       "2      -0.074706   -0.07303   -0.166198   -0.014754         1.160851   \n",
       "3      -0.074706   -0.07303   -0.166198   -0.014754        -0.490473   \n",
       "4      -0.074706   -0.07303   -0.166198   -0.014754        -0.490473   \n",
       "\n",
       "    commute  reviews_per_month  \n",
       "0 -1.796673          -0.823928  \n",
       "1 -1.796673          -0.823928  \n",
       "2 -1.796673          -0.823928  \n",
       "3 -1.796673          -0.823928  \n",
       "4 -1.796673           0.917128  \n",
       "\n",
       "[5 rows x 81 columns]"
      ]
     },
     "execution_count": 159,
     "metadata": {},
     "output_type": "execute_result"
    }
   ],
   "source": [
    "SF_X.head()"
   ]
  },
  {
   "cell_type": "code",
   "execution_count": 16,
   "metadata": {},
   "outputs": [],
   "source": [
    "#normalize data\n",
    "from sklearn. preprocessing import StandardScaler\n",
    "\n",
    "#for test data- use the means and standard deviations saved from training data, rather than computing them from test data\n",
    "def normalization_train_and_vali(train_X, valid_X, test_X):\n",
    "    scaler = StandardScaler()\n",
    "    scaler.fit(train_X)\n",
    "    X_train = scaler.transform(train_X)\n",
    "    X_valid = scaler.transform(valid_X)\n",
    "    X_test = scaler.transform(test_X)\n",
    "    \n",
    "    #convert array to dataframe\n",
    "    X_train = pd.DataFrame(X_train, columns = train_X.columns)\n",
    "    X_valid = pd.DataFrame(X_valid, columns = train_X.columns)\n",
    "    X_test = pd.DataFrame(X_test, columns = train_X.columns)\n",
    "    \n",
    "    return X_train, X_valid, X_test"
   ]
  },
  {
   "cell_type": "code",
   "execution_count": 15,
   "metadata": {},
   "outputs": [],
   "source": [
    "#normalize data\n",
    "from sklearn. preprocessing import StandardScaler\n",
    "\n",
    "def normalize_sf(train_X, test_X):\n",
    "    ''' normalize the SF data set using NY. Returns normalized SF X data '''\n",
    "    scaler = StandardScaler()\n",
    "    scaler.fit(train_X)\n",
    "    X_train = scaler.transform(train_X)\n",
    "    X_test = scaler.transform(test_X)\n",
    "    \n",
    "    #convert array to dataframe\n",
    "    X_train = pd.DataFrame(X_train, columns = train_X.columns)\n",
    "    X_test = pd.DataFrame(X_test, columns = train_X.columns)\n",
    "\n",
    "    return X_test\n"
   ]
  },
  {
   "cell_type": "code",
   "execution_count": 86,
   "metadata": {},
   "outputs": [],
   "source": [
    "#SVR\n",
    "def svr(X_train, y_train, X_valid, y_valid):\n",
    "    model = SVR(C = 10, gamma = 0.001)\n",
    "    model.fit(X_train, y_train)\n",
    "    \n",
    "    print(\"training metrics:\")\n",
    "    evaluation_metrics(model, X_train, y_train)\n",
    "    \n",
    "    print(\"validation metrics\")\n",
    "    evaluation_metrics(model, X_valid, y_valid)\n",
    "    return model"
   ]
  },
  {
   "cell_type": "code",
   "execution_count": 87,
   "metadata": {},
   "outputs": [],
   "source": [
    "def evaluation_metrics(trained_model, X_test, y_test):\n",
    "    predicted_values = trained_model.predict(X_test)\n",
    "    print(\"Mean Absolute Error: \", \n",
    "          metrics.mean_absolute_error(y_test, predicted_values))\n",
    "    print(\"Mean Squared Error: \", metrics.mean_squared_error(y_test, \\\n",
    "                                                             predicted_values))\n",
    "    print(\"R2: \", metrics.r2_score(y_test, predicted_values))"
   ]
  },
  {
   "cell_type": "code",
   "execution_count": 160,
   "metadata": {},
   "outputs": [
    {
     "name": "stdout",
     "output_type": "stream",
     "text": [
      "training metrics:\n",
      "Mean Absolute Error:  0.24979158777854518\n",
      "Mean Squared Error:  0.1216106616155925\n",
      "R2:  0.7209813071484108\n",
      "validation metrics\n",
      "Mean Absolute Error:  0.3507376842433729\n",
      "Mean Squared Error:  0.22584856209366835\n",
      "R2:  0.5440015407948657\n"
     ]
    }
   ],
   "source": [
    "# train on NY, test on SF\n",
    "trainNY_testSF = svr(ny_data1, y_train, SF_X, SF_y)"
   ]
  },
  {
   "cell_type": "code",
   "execution_count": 69,
   "metadata": {},
   "outputs": [],
   "source": [
    "predictedSF_y = trainNY_testSF.predict(SF_X)"
   ]
  },
  {
   "cell_type": "code",
   "execution_count": 73,
   "metadata": {},
   "outputs": [],
   "source": [
    "predictedSF_y = np.exp(predictedSF_y)"
   ]
  },
  {
   "cell_type": "code",
   "execution_count": 72,
   "metadata": {},
   "outputs": [
    {
     "data": {
      "text/plain": [
       "array([193.6257469 , 106.88379104, 108.34703462, ..., 139.41402407,\n",
       "        92.71678224, 208.96771749])"
      ]
     },
     "execution_count": 72,
     "metadata": {},
     "output_type": "execute_result"
    }
   ],
   "source": []
  },
  {
   "cell_type": "code",
   "execution_count": 75,
   "metadata": {},
   "outputs": [],
   "source": [
    "pd.DataFrame(predictedSF_y).to_csv(\"predictedSF.csv\")"
   ]
  },
  {
   "cell_type": "code",
   "execution_count": null,
   "metadata": {},
   "outputs": [],
   "source": []
  },
  {
   "cell_type": "code",
   "execution_count": 182,
   "metadata": {},
   "outputs": [],
   "source": [
    "#hyperparameter tuning\n",
    "# use R^2 as criteria, as we are interested in prediction\n",
    "# default = 5-fold cross validation\n",
    "#{'C': 10, 'gamma': 0.001}\n",
    "\n",
    "from sklearn.model_selection import GridSearchCV\n",
    "\n",
    "def svr_param_selection(X, y):\n",
    "    Cs = [0.001, 0.01, 0.1, 1, 10]\n",
    "    gammas = [0.001, 0.01, 0.1, 1, 10]\n",
    "    param_grid = {'C': Cs, 'gamma': gammas}\n",
    "    svr = SVR()\n",
    "    grid_search = GridSearchCV(svr, param_grid)\n",
    "    grid_search.fit(X, y)\n",
    "    grid_search.best_params_\n",
    "    print(grid_search.best_params_)\n",
    "    return grid_search.best_params_"
   ]
  },
  {
   "cell_type": "code",
   "execution_count": 183,
   "metadata": {},
   "outputs": [
    {
     "name": "stderr",
     "output_type": "stream",
     "text": [
      "/home/alteo/anaconda3/lib/python3.7/site-packages/sklearn/model_selection/_split.py:1978: FutureWarning: The default value of cv will change from 3 to 5 in version 0.22. Specify it explicitly to silence this warning.\n",
      "  warnings.warn(CV_WARNING, FutureWarning)\n"
     ]
    },
    {
     "name": "stdout",
     "output_type": "stream",
     "text": [
      "{'C': 10, 'gamma': 0.001}\n"
     ]
    }
   ],
   "source": [
    "best_params = svr_param_selection(X_train, y_train)"
   ]
  }
 ],
 "metadata": {
  "kernelspec": {
   "display_name": "Python 3",
   "language": "python",
   "name": "python3"
  },
  "language_info": {
   "codemirror_mode": {
    "name": "ipython",
    "version": 3
   },
   "file_extension": ".py",
   "mimetype": "text/x-python",
   "name": "python",
   "nbconvert_exporter": "python",
   "pygments_lexer": "ipython3",
   "version": "3.7.4"
  }
 },
 "nbformat": 4,
 "nbformat_minor": 2
}
